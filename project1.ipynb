{
 "cells": [
  {
   "cell_type": "code",
   "execution_count": 10,
   "metadata": {
    "deletable": false,
    "editable": false
   },
   "outputs": [
    {
     "name": "stdout",
     "output_type": "stream",
     "text": [
      "=====================================================================\n",
      "Assignment: Project 1: World Progress\n",
      "OK, version v1.12.5\n",
      "=====================================================================\n",
      "\n"
     ]
    }
   ],
   "source": [
    "# Initialize OK\n",
    "from client.api.notebook import Notebook\n",
    "ok = Notebook('project1.ok')"
   ]
  },
  {
   "cell_type": "markdown",
   "metadata": {},
   "source": [
    "## Project 1: World Progress"
   ]
  },
  {
   "cell_type": "markdown",
   "metadata": {},
   "source": [
    "In this project, you'll explore data from [Gapminder.org](http://gapminder.org), a website dedicated to providing a fact-based view of the world and how it has changed. That site includes several data visualizations and presentations, but also publishes the raw data that we will use in this project to recreate and extend some of their most famous visualizations.\n",
    "\n",
    "The Gapminder website collects data from many sources and compiles them into tables that describe many countries around the world. All of the data they aggregate are published in the [Systema Globalis](https://github.com/open-numbers/ddf--gapminder--systema_globalis/blob/master/README.md). Their goal is \"to compile all public statistics; Social, Economic and Environmental; into a comparable total dataset.\" All data sets in this project are copied directly from the Systema Globalis without any changes.\n",
    "\n",
    "This project is dedicated to [Hans Rosling](https://en.wikipedia.org/wiki/Hans_Rosling) (1948-2017), who championed the use of data to understand and prioritize global development challenges."
   ]
  },
  {
   "cell_type": "markdown",
   "metadata": {},
   "source": [
    "### Logistics\n",
    "\n",
    "**Deadline.** This project is due at 11:59pm on Friday 10/4. Projects will be accepted up to 2 days (48 hours) late; a project submitted less than 24 hours after the deadline will receive 2/3 credit, a project submitted between 24 and 48 hours after the deadline will receive 1/3 credit, and a project submitted 48 hours or more after the deadline will receive no credit. It's **much** better to be early than late, so start working now.\n",
    "\n",
    "**Checkpoint.** For full credit, you must also complete the first 8 questions, pass all public autograder tests, and submit to okpy by 11:59pm on Friday 9/27. After you've submitted the checkpoint, you may still change your answers before the project deadline - only your final submission will be graded for correctness. You will have some lab time to work on these questions, but we recommend that you start the project before lab and leave time to finish the checkpoint afterward.\n",
    "\n",
    "**Partners.** You may work with one other partner; your partner must be from your assigned lab section. Only one of you is required to submit the project. On [okpy.org](http://okpy.org), the person who submits should also designate their partner so that both of you receive credit.\n",
    "\n",
    "**Rules.** Don't share your code with anybody but your partner. You are welcome to discuss questions with other students, but don't share the answers. The experience of solving the problems in this project will prepare you for exams (and life). If someone asks you for the answer, resist! Instead, you can demonstrate how you would solve a similar problem.\n",
    "\n",
    "**Support.** You are not alone! Come to office hours, post on Piazza, and talk to your classmates. If you want to ask about the details of your solution to a problem, make a private Piazza post and the staff will respond. If you're ever feeling overwhelmed or don't know how to make progress, email your TA or tutor for help. You can find contact information for the staff on the [course website](http://data8.org/fa19/staff.html).\n",
    "\n",
    "**Tests.** The tests that are given are **not comprehensive** and passing the tests for a question **does not** mean that you answered the question correctly. Tests usually only check that your table has the correct column labels. However, more tests will be applied to verify the correctness of your submission in order to assign your final score, so be careful and check your work! You might want to create your own checks along the way to see if your answers make sense. Additionally, before you submit, make sure that none of your cells take a very long time to run (several minutes).\n",
    "\n",
    "**Free Response Questions:** Make sure that you put the answers to the written questions in the indicated cell we provide. Check to make sure that you have a [Gradescope](http://gradescope.com) account, which is where the scores to the free response questions will be posted. If you do not, make sure to reach out to your assigned (u)GSI.\n",
    "\n",
    "**Advice.** Develop your answers incrementally. To perform a complicated table manipulation, break it up into steps, perform each step on a different line, give a new name to each result, and check that each intermediate result is what you expect. You can add any additional names or functions you want to the provided cells. Make sure that you are using distinct and meaningful variable names throughout the notebook. Along that line, **DO NOT** reuse the variable names that we use when we grade your answers. For example, in Question 1 of the Global Poverty section, we ask you to assign an answer to `latest`. Do not reassign the variable name `latest` to anything else in your notebook, otherwise there is the chance that our tests grade against what `latest` was reassigned to.\n",
    "\n",
    "You **never** have to use just one line in this project or any others. Use intermediate variables and multiple lines as much as you would like!  \n",
    "\n",
    "To get started, load `datascience`, `numpy`, `plots`, and `ok`."
   ]
  },
  {
   "cell_type": "code",
   "execution_count": 11,
   "metadata": {},
   "outputs": [
    {
     "name": "stdout",
     "output_type": "stream",
     "text": [
      "=====================================================================\n",
      "Assignment: Project 1: World Progress\n",
      "OK, version v1.12.5\n",
      "=====================================================================\n",
      "\n"
     ]
    }
   ],
   "source": [
    "from datascience import *\n",
    "import numpy as np\n",
    "\n",
    "%matplotlib inline\n",
    "import matplotlib.pyplot as plots\n",
    "plots.style.use('fivethirtyeight')\n",
    "\n",
    "from client.api.notebook import Notebook\n",
    "ok = Notebook('project1.ok')"
   ]
  },
  {
   "cell_type": "markdown",
   "metadata": {},
   "source": [
    "Before continuing the assignment, select \"Save and Checkpoint\" in the File menu and then execute the submit cell below. The result will contain a link that you can use to check that your assignment has been submitted successfully. If you submit more than once before the deadline, we will only grade your final submission. If you mistakenly submit the wrong one, you can head to okpy.org and flag the correct version. There will be another submit cell at the end of the assignment when you finish!"
   ]
  },
  {
   "cell_type": "code",
   "execution_count": 12,
   "metadata": {},
   "outputs": [
    {
     "data": {
      "application/javascript": [
       "IPython.notebook.save_checkpoint();"
      ],
      "text/plain": [
       "<IPython.core.display.Javascript object>"
      ]
     },
     "metadata": {},
     "output_type": "display_data"
    },
    {
     "data": {
      "application/javascript": [
       "IPython.notebook.save_notebook();"
      ],
      "text/plain": [
       "<IPython.core.display.Javascript object>"
      ]
     },
     "metadata": {},
     "output_type": "display_data"
    },
    {
     "name": "stdout",
     "output_type": "stream",
     "text": [
      "Saving notebook... Saved 'project1.ipynb'.\n",
      "Submit... 100% complete\n",
      "Submission successful for user: rebeccawzy@berkeley.edu\n",
      "URL: https://okpy.org/cal/data8/fa19/project1/submissions/28RErj\n",
      "\n"
     ]
    }
   ],
   "source": [
    "_ = ok.submit()"
   ]
  },
  {
   "cell_type": "markdown",
   "metadata": {
    "deletable": false,
    "editable": false
   },
   "source": [
    "## 1. Global Population Growth\n"
   ]
  },
  {
   "cell_type": "markdown",
   "metadata": {
    "deletable": false,
    "editable": false
   },
   "source": [
    "The global population of humans reached 1 billion around 1800, 3 billion around 1960, and 7 billion around 2011. The potential impact of exponential population growth has concerned scientists, economists, and politicians alike.\n",
    "\n",
    "The UN Population Division estimates that the world population will likely continue to grow throughout the 21st century, but at a slower rate, perhaps reaching 11 billion by 2100. However, the UN does not rule out scenarios of more extreme growth.\n",
    "\n",
    "<a href=\"http://www.pewresearch.org/fact-tank/2015/06/08/scientists-more-worried-than-public-about-worlds-growing-population/ft_15-06-04_popcount/\"> \n",
    " <img src=\"pew_population_projection.png\"/> \n",
    "</a>\n",
    "\n",
    "In this section, we will examine some of the factors that influence population growth and how they are changing around the world.\n",
    "\n",
    "The first table we will consider is the total population of each country over time. Run the cell below."
   ]
  },
  {
   "cell_type": "code",
   "execution_count": 13,
   "metadata": {
    "deletable": false,
    "editable": false
   },
   "outputs": [
    {
     "data": {
      "text/html": [
       "<table border=\"1\" class=\"dataframe\">\n",
       "    <thead>\n",
       "        <tr>\n",
       "            <th>geo</th> <th>time</th> <th>population_total</th>\n",
       "        </tr>\n",
       "    </thead>\n",
       "    <tbody>\n",
       "        <tr>\n",
       "            <td>abw </td> <td>1800</td> <td>19286           </td>\n",
       "        </tr>\n",
       "        <tr>\n",
       "            <td>abw </td> <td>1801</td> <td>19286           </td>\n",
       "        </tr>\n",
       "        <tr>\n",
       "            <td>abw </td> <td>1802</td> <td>19286           </td>\n",
       "        </tr>\n",
       "    </tbody>\n",
       "</table>\n",
       "<p>... (87792 rows omitted)</p>"
      ],
      "text/plain": [
       "<IPython.core.display.HTML object>"
      ]
     },
     "metadata": {},
     "output_type": "display_data"
    }
   ],
   "source": [
    "population = Table.read_table('population.csv')\n",
    "population.show(3)"
   ]
  },
  {
   "cell_type": "markdown",
   "metadata": {},
   "source": [
    "**Note:** The population csv file can also be found [here](https://github.com/open-numbers/ddf--gapminder--systema_globalis/raw/master/ddf--datapoints--population_total--by--geo--time.csv). The data for this project was downloaded in February 2017."
   ]
  },
  {
   "cell_type": "markdown",
   "metadata": {
    "deletable": false,
    "editable": false
   },
   "source": [
    "### Bangladesh\n",
    "\n",
    "In the `population` table, the `geo` column contains three-letter codes established by the [International Organization for Standardization](https://en.wikipedia.org/wiki/International_Organization_for_Standardization) (ISO) in the [Alpha-3](https://en.wikipedia.org/wiki/ISO_3166-1_alpha-3#Current_codes) standard. We will begin by taking a close look at Bangladesh. Inspect the standard to find the 3-letter code for Bangladesh."
   ]
  },
  {
   "cell_type": "markdown",
   "metadata": {
    "deletable": false,
    "editable": false
   },
   "source": [
    "**Question 1.** Create a table called `b_pop` that has two columns labeled `time` and `population_total`. The first column should contain the years from 1970 through 2015 (including both 1970 and 2015) and the second should contain the population of Bangladesh in each of those years.\n",
    "\n",
    "<!--\n",
    "BEGIN QUESTION\n",
    "name: q1_1\n",
    "-->"
   ]
  },
  {
   "cell_type": "code",
   "execution_count": 14,
   "metadata": {
    "deletable": false
   },
   "outputs": [
    {
     "data": {
      "text/html": [
       "<table border=\"1\" class=\"dataframe\">\n",
       "    <thead>\n",
       "        <tr>\n",
       "            <th>time</th> <th>population_total</th>\n",
       "        </tr>\n",
       "    </thead>\n",
       "    <tbody>\n",
       "        <tr>\n",
       "            <td>1970</td> <td>65048701        </td>\n",
       "        </tr>\n",
       "        <tr>\n",
       "            <td>1971</td> <td>66417450        </td>\n",
       "        </tr>\n",
       "        <tr>\n",
       "            <td>1972</td> <td>67578486        </td>\n",
       "        </tr>\n",
       "        <tr>\n",
       "            <td>1973</td> <td>68658472        </td>\n",
       "        </tr>\n",
       "        <tr>\n",
       "            <td>1974</td> <td>69837960        </td>\n",
       "        </tr>\n",
       "        <tr>\n",
       "            <td>1975</td> <td>71247153        </td>\n",
       "        </tr>\n",
       "        <tr>\n",
       "            <td>1976</td> <td>72930206        </td>\n",
       "        </tr>\n",
       "        <tr>\n",
       "            <td>1977</td> <td>74848466        </td>\n",
       "        </tr>\n",
       "        <tr>\n",
       "            <td>1978</td> <td>76948378        </td>\n",
       "        </tr>\n",
       "        <tr>\n",
       "            <td>1979</td> <td>79141947        </td>\n",
       "        </tr>\n",
       "    </tbody>\n",
       "</table>\n",
       "<p>... (36 rows omitted)</p>"
      ],
      "text/plain": [
       "time | population_total\n",
       "1970 | 65048701\n",
       "1971 | 66417450\n",
       "1972 | 67578486\n",
       "1973 | 68658472\n",
       "1974 | 69837960\n",
       "1975 | 71247153\n",
       "1976 | 72930206\n",
       "1977 | 74848466\n",
       "1978 | 76948378\n",
       "1979 | 79141947\n",
       "... (36 rows omitted)"
      ]
     },
     "execution_count": 14,
     "metadata": {},
     "output_type": "execute_result"
    }
   ],
   "source": [
    "b_pop = population.where(\"geo\", are.equal_to ('bgd')).where('time', are.between_or_equal_to(1970,2015)).drop('geo')\n",
    "b_pop"
   ]
  },
  {
   "cell_type": "code",
   "execution_count": 15,
   "metadata": {
    "deletable": false,
    "editable": false
   },
   "outputs": [
    {
     "name": "stdout",
     "output_type": "stream",
     "text": [
      "~~~~~~~~~~~~~~~~~~~~~~~~~~~~~~~~~~~~~~~~~~~~~~~~~~~~~~~~~~~~~~~~~~~~~\n",
      "Running tests\n",
      "\n",
      "---------------------------------------------------------------------\n",
      "Test summary\n",
      "    Passed: 2\n",
      "    Failed: 0\n",
      "[ooooooooook] 100.0% passed\n",
      "\n"
     ]
    }
   ],
   "source": [
    "ok.grade(\"q1_1\");"
   ]
  },
  {
   "cell_type": "markdown",
   "metadata": {
    "deletable": false,
    "editable": false
   },
   "source": [
    "Run the following cell to create a table called `b_five` that has the population of Bangladesh every five years. At a glance, it appears that the population of Bangladesh has been growing quickly indeed!"
   ]
  },
  {
   "cell_type": "code",
   "execution_count": 16,
   "metadata": {
    "deletable": false,
    "editable": false
   },
   "outputs": [
    {
     "data": {
      "text/html": [
       "<table border=\"1\" class=\"dataframe\">\n",
       "    <thead>\n",
       "        <tr>\n",
       "            <th>time</th> <th>population_total</th>\n",
       "        </tr>\n",
       "    </thead>\n",
       "    <tbody>\n",
       "        <tr>\n",
       "            <td>1970</td> <td>65,048,701      </td>\n",
       "        </tr>\n",
       "        <tr>\n",
       "            <td>1975</td> <td>71,247,153      </td>\n",
       "        </tr>\n",
       "        <tr>\n",
       "            <td>1980</td> <td>81,364,176      </td>\n",
       "        </tr>\n",
       "        <tr>\n",
       "            <td>1985</td> <td>93,015,182      </td>\n",
       "        </tr>\n",
       "        <tr>\n",
       "            <td>1990</td> <td>105,983,136     </td>\n",
       "        </tr>\n",
       "        <tr>\n",
       "            <td>1995</td> <td>118,427,768     </td>\n",
       "        </tr>\n",
       "        <tr>\n",
       "            <td>2000</td> <td>131,280,739     </td>\n",
       "        </tr>\n",
       "        <tr>\n",
       "            <td>2005</td> <td>142,929,979     </td>\n",
       "        </tr>\n",
       "        <tr>\n",
       "            <td>2010</td> <td>151,616,777     </td>\n",
       "        </tr>\n",
       "        <tr>\n",
       "            <td>2015</td> <td>160,995,642     </td>\n",
       "        </tr>\n",
       "    </tbody>\n",
       "</table>"
      ],
      "text/plain": [
       "time | population_total\n",
       "1970 | 65,048,701\n",
       "1975 | 71,247,153\n",
       "1980 | 81,364,176\n",
       "1985 | 93,015,182\n",
       "1990 | 105,983,136\n",
       "1995 | 118,427,768\n",
       "2000 | 131,280,739\n",
       "2005 | 142,929,979\n",
       "2010 | 151,616,777\n",
       "2015 | 160,995,642"
      ]
     },
     "execution_count": 16,
     "metadata": {},
     "output_type": "execute_result"
    }
   ],
   "source": [
    "b_pop.set_format('population_total', NumberFormatter)\n",
    "\n",
    "fives = np.arange(1970, 2016, 5) # 1970, 1975, 1980, ...\n",
    "b_five = b_pop.sort('time').where('time', are.contained_in(fives))\n",
    "b_five"
   ]
  },
  {
   "cell_type": "markdown",
   "metadata": {
    "deletable": false,
    "editable": false
   },
   "source": [
    "**Question 2.** Assign `initial` to an array that contains the population for every five year interval from 1970 to 2010. Then, assign `changed` to an array that contains the population for every five year interval from 1975 to 2015. You should use the `b_five` table to create both arrays, first filtering the table to only contain the relevant years.\n",
    "\n",
    "We have provided the code below that uses  `initial` and `changed` in order to add a column to `b_five` called `annual_growth`. Don't worry about the calculation of the growth rates; run the test below to test your solution.\n",
    "\n",
    "If you are interested in how we came up with the formula for growth rates, consult the [growth rates](https://www.inferentialthinking.com/chapters/03/2/1/growth) section of the textbook.\n",
    "\n",
    "<!--\n",
    "BEGIN QUESTION\n",
    "name: q1_2\n",
    "-->"
   ]
  },
  {
   "cell_type": "code",
   "execution_count": 17,
   "metadata": {
    "deletable": false
   },
   "outputs": [
    {
     "data": {
      "text/html": [
       "<table border=\"1\" class=\"dataframe\">\n",
       "    <thead>\n",
       "        <tr>\n",
       "            <th>time</th> <th>population_total</th> <th>annual_growth</th>\n",
       "        </tr>\n",
       "    </thead>\n",
       "    <tbody>\n",
       "        <tr>\n",
       "            <td>1970</td> <td>65,048,701      </td> <td>1.84%        </td>\n",
       "        </tr>\n",
       "        <tr>\n",
       "            <td>1975</td> <td>71,247,153      </td> <td>2.69%        </td>\n",
       "        </tr>\n",
       "        <tr>\n",
       "            <td>1980</td> <td>81,364,176      </td> <td>2.71%        </td>\n",
       "        </tr>\n",
       "        <tr>\n",
       "            <td>1985</td> <td>93,015,182      </td> <td>2.64%        </td>\n",
       "        </tr>\n",
       "        <tr>\n",
       "            <td>1990</td> <td>105,983,136     </td> <td>2.25%        </td>\n",
       "        </tr>\n",
       "        <tr>\n",
       "            <td>1995</td> <td>118,427,768     </td> <td>2.08%        </td>\n",
       "        </tr>\n",
       "        <tr>\n",
       "            <td>2000</td> <td>131,280,739     </td> <td>1.71%        </td>\n",
       "        </tr>\n",
       "        <tr>\n",
       "            <td>2005</td> <td>142,929,979     </td> <td>1.19%        </td>\n",
       "        </tr>\n",
       "        <tr>\n",
       "            <td>2010</td> <td>151,616,777     </td> <td>1.21%        </td>\n",
       "        </tr>\n",
       "    </tbody>\n",
       "</table>"
      ],
      "text/plain": [
       "time | population_total | annual_growth\n",
       "1970 | 65,048,701       | 1.84%\n",
       "1975 | 71,247,153       | 2.69%\n",
       "1980 | 81,364,176       | 2.71%\n",
       "1985 | 93,015,182       | 2.64%\n",
       "1990 | 105,983,136      | 2.25%\n",
       "1995 | 118,427,768      | 2.08%\n",
       "2000 | 131,280,739      | 1.71%\n",
       "2005 | 142,929,979      | 1.19%\n",
       "2010 | 151,616,777      | 1.21%"
      ]
     },
     "execution_count": 17,
     "metadata": {},
     "output_type": "execute_result"
    }
   ],
   "source": [
    "initial = b_five.where('time', are.between_or_equal_to(1970,2010)).column('population_total')\n",
    "changed = b_five.where('time', are.between_or_equal_to(1975,2015)).column('population_total')\n",
    "\n",
    "b_1970_through_2010 = b_five.where('time', are.below_or_equal_to(2010))\n",
    "b_five_growth = b_1970_through_2010.with_column('annual_growth', (changed/initial)**0.2-1)\n",
    "b_five_growth.set_format('annual_growth', PercentFormatter)"
   ]
  },
  {
   "cell_type": "code",
   "execution_count": 18,
   "metadata": {
    "deletable": false,
    "editable": false
   },
   "outputs": [
    {
     "name": "stdout",
     "output_type": "stream",
     "text": [
      "~~~~~~~~~~~~~~~~~~~~~~~~~~~~~~~~~~~~~~~~~~~~~~~~~~~~~~~~~~~~~~~~~~~~~\n",
      "Running tests\n",
      "\n",
      "---------------------------------------------------------------------\n",
      "Test summary\n",
      "    Passed: 2\n",
      "    Failed: 0\n",
      "[ooooooooook] 100.0% passed\n",
      "\n"
     ]
    }
   ],
   "source": [
    "ok.grade(\"q1_2\");"
   ]
  },
  {
   "cell_type": "markdown",
   "metadata": {
    "deletable": false,
    "editable": false
   },
   "source": [
    "While the population has grown every five years since 1970, the annual growth rate decreased dramatically from 1985 to 2005. Let's look at some other information in order to develop a possible explanation. Run the next cell to load three additional tables of measurements about countries over time."
   ]
  },
  {
   "cell_type": "code",
   "execution_count": 19,
   "metadata": {
    "deletable": false,
    "editable": false
   },
   "outputs": [],
   "source": [
    "life_expectancy = Table.read_table('life_expectancy.csv')\n",
    "child_mortality = Table.read_table('child_mortality.csv').relabel(2, 'child_mortality_under_5_per_1000_born')\n",
    "fertility = Table.read_table('fertility.csv')"
   ]
  },
  {
   "cell_type": "markdown",
   "metadata": {
    "deletable": false,
    "editable": false
   },
   "source": [
    "The `life_expectancy` table contains a statistic that is often used to measure how long people live, called *life expectancy at birth*. This number, for a country in a given year, [does not measure how long babies born in that year are expected to live](http://blogs.worldbank.org/opendata/what-does-life-expectancy-birth-really-mean). Instead, it measures how long someone would live, on average, if the *mortality conditions* in that year persisted throughout their lifetime. These \"mortality conditions\" describe what fraction of people at each age survived the year. So, it is a way of measuring the proportion of people that are staying alive, aggregated over different age groups in the population."
   ]
  },
  {
   "cell_type": "markdown",
   "metadata": {},
   "source": [
    "Run the following cells below to see `life_expectancy`, `child_mortality`, and `fertility`. Refer back to these tables as they will be helpful for answering further questions!"
   ]
  },
  {
   "cell_type": "code",
   "execution_count": 20,
   "metadata": {},
   "outputs": [
    {
     "data": {
      "text/html": [
       "<table border=\"1\" class=\"dataframe\">\n",
       "    <thead>\n",
       "        <tr>\n",
       "            <th>geo</th> <th>time</th> <th>life_expectancy_years</th>\n",
       "        </tr>\n",
       "    </thead>\n",
       "    <tbody>\n",
       "        <tr>\n",
       "            <td>afg </td> <td>1800</td> <td>28.21                </td>\n",
       "        </tr>\n",
       "        <tr>\n",
       "            <td>afg </td> <td>1801</td> <td>28.2                 </td>\n",
       "        </tr>\n",
       "        <tr>\n",
       "            <td>afg </td> <td>1802</td> <td>28.19                </td>\n",
       "        </tr>\n",
       "        <tr>\n",
       "            <td>afg </td> <td>1803</td> <td>28.18                </td>\n",
       "        </tr>\n",
       "        <tr>\n",
       "            <td>afg </td> <td>1804</td> <td>28.17                </td>\n",
       "        </tr>\n",
       "        <tr>\n",
       "            <td>afg </td> <td>1805</td> <td>28.16                </td>\n",
       "        </tr>\n",
       "        <tr>\n",
       "            <td>afg </td> <td>1806</td> <td>28.15                </td>\n",
       "        </tr>\n",
       "        <tr>\n",
       "            <td>afg </td> <td>1807</td> <td>28.14                </td>\n",
       "        </tr>\n",
       "        <tr>\n",
       "            <td>afg </td> <td>1808</td> <td>28.13                </td>\n",
       "        </tr>\n",
       "        <tr>\n",
       "            <td>afg </td> <td>1809</td> <td>28.12                </td>\n",
       "        </tr>\n",
       "    </tbody>\n",
       "</table>\n",
       "<p>... (43847 rows omitted)</p>"
      ],
      "text/plain": [
       "geo  | time | life_expectancy_years\n",
       "afg  | 1800 | 28.21\n",
       "afg  | 1801 | 28.2\n",
       "afg  | 1802 | 28.19\n",
       "afg  | 1803 | 28.18\n",
       "afg  | 1804 | 28.17\n",
       "afg  | 1805 | 28.16\n",
       "afg  | 1806 | 28.15\n",
       "afg  | 1807 | 28.14\n",
       "afg  | 1808 | 28.13\n",
       "afg  | 1809 | 28.12\n",
       "... (43847 rows omitted)"
      ]
     },
     "execution_count": 20,
     "metadata": {},
     "output_type": "execute_result"
    }
   ],
   "source": [
    "life_expectancy"
   ]
  },
  {
   "cell_type": "code",
   "execution_count": 21,
   "metadata": {},
   "outputs": [
    {
     "data": {
      "text/html": [
       "<table border=\"1\" class=\"dataframe\">\n",
       "    <thead>\n",
       "        <tr>\n",
       "            <th>geo</th> <th>time</th> <th>child_mortality_under_5_per_1000_born</th>\n",
       "        </tr>\n",
       "    </thead>\n",
       "    <tbody>\n",
       "        <tr>\n",
       "            <td>afg </td> <td>1800</td> <td>468.6                                </td>\n",
       "        </tr>\n",
       "        <tr>\n",
       "            <td>afg </td> <td>1801</td> <td>468.6                                </td>\n",
       "        </tr>\n",
       "        <tr>\n",
       "            <td>afg </td> <td>1802</td> <td>468.6                                </td>\n",
       "        </tr>\n",
       "        <tr>\n",
       "            <td>afg </td> <td>1803</td> <td>468.6                                </td>\n",
       "        </tr>\n",
       "        <tr>\n",
       "            <td>afg </td> <td>1804</td> <td>468.6                                </td>\n",
       "        </tr>\n",
       "        <tr>\n",
       "            <td>afg </td> <td>1805</td> <td>468.6                                </td>\n",
       "        </tr>\n",
       "        <tr>\n",
       "            <td>afg </td> <td>1806</td> <td>470                                  </td>\n",
       "        </tr>\n",
       "        <tr>\n",
       "            <td>afg </td> <td>1807</td> <td>470                                  </td>\n",
       "        </tr>\n",
       "        <tr>\n",
       "            <td>afg </td> <td>1808</td> <td>470                                  </td>\n",
       "        </tr>\n",
       "        <tr>\n",
       "            <td>afg </td> <td>1809</td> <td>470                                  </td>\n",
       "        </tr>\n",
       "    </tbody>\n",
       "</table>\n",
       "<p>... (40746 rows omitted)</p>"
      ],
      "text/plain": [
       "geo  | time | child_mortality_under_5_per_1000_born\n",
       "afg  | 1800 | 468.6\n",
       "afg  | 1801 | 468.6\n",
       "afg  | 1802 | 468.6\n",
       "afg  | 1803 | 468.6\n",
       "afg  | 1804 | 468.6\n",
       "afg  | 1805 | 468.6\n",
       "afg  | 1806 | 470\n",
       "afg  | 1807 | 470\n",
       "afg  | 1808 | 470\n",
       "afg  | 1809 | 470\n",
       "... (40746 rows omitted)"
      ]
     },
     "execution_count": 21,
     "metadata": {},
     "output_type": "execute_result"
    }
   ],
   "source": [
    "child_mortality"
   ]
  },
  {
   "cell_type": "code",
   "execution_count": 22,
   "metadata": {},
   "outputs": [
    {
     "data": {
      "text/html": [
       "<table border=\"1\" class=\"dataframe\">\n",
       "    <thead>\n",
       "        <tr>\n",
       "            <th>geo</th> <th>time</th> <th>children_per_woman_total_fertility</th>\n",
       "        </tr>\n",
       "    </thead>\n",
       "    <tbody>\n",
       "        <tr>\n",
       "            <td>afg </td> <td>1800</td> <td>7                                 </td>\n",
       "        </tr>\n",
       "        <tr>\n",
       "            <td>afg </td> <td>1801</td> <td>7                                 </td>\n",
       "        </tr>\n",
       "        <tr>\n",
       "            <td>afg </td> <td>1802</td> <td>7                                 </td>\n",
       "        </tr>\n",
       "        <tr>\n",
       "            <td>afg </td> <td>1803</td> <td>7                                 </td>\n",
       "        </tr>\n",
       "        <tr>\n",
       "            <td>afg </td> <td>1804</td> <td>7                                 </td>\n",
       "        </tr>\n",
       "        <tr>\n",
       "            <td>afg </td> <td>1805</td> <td>7                                 </td>\n",
       "        </tr>\n",
       "        <tr>\n",
       "            <td>afg </td> <td>1806</td> <td>7                                 </td>\n",
       "        </tr>\n",
       "        <tr>\n",
       "            <td>afg </td> <td>1807</td> <td>7                                 </td>\n",
       "        </tr>\n",
       "        <tr>\n",
       "            <td>afg </td> <td>1808</td> <td>7                                 </td>\n",
       "        </tr>\n",
       "        <tr>\n",
       "            <td>afg </td> <td>1809</td> <td>7                                 </td>\n",
       "        </tr>\n",
       "    </tbody>\n",
       "</table>\n",
       "<p>... (43402 rows omitted)</p>"
      ],
      "text/plain": [
       "geo  | time | children_per_woman_total_fertility\n",
       "afg  | 1800 | 7\n",
       "afg  | 1801 | 7\n",
       "afg  | 1802 | 7\n",
       "afg  | 1803 | 7\n",
       "afg  | 1804 | 7\n",
       "afg  | 1805 | 7\n",
       "afg  | 1806 | 7\n",
       "afg  | 1807 | 7\n",
       "afg  | 1808 | 7\n",
       "afg  | 1809 | 7\n",
       "... (43402 rows omitted)"
      ]
     },
     "execution_count": 22,
     "metadata": {},
     "output_type": "execute_result"
    }
   ],
   "source": [
    "fertility"
   ]
  },
  {
   "cell_type": "markdown",
   "metadata": {
    "deletable": false,
    "editable": false
   },
   "source": [
    "**Question 3.** Perhaps population is growing more slowly because people aren't living as long. Use the `life_expectancy` table to draw a line graph with the years 1970 and later on the horizontal axis that shows how the *life expectancy at birth* has changed in Bangladesh.\n",
    "\n",
    "<!--\n",
    "BEGIN QUESTION\n",
    "name: q1_3\n",
    "manual: true\n",
    "-->\n",
    "<!-- EXPORT TO PDF -->"
   ]
  },
  {
   "cell_type": "code",
   "execution_count": 23,
   "metadata": {
    "deletable": false,
    "export_pdf": true,
    "manual_grade": true,
    "manual_problem_id": "global_pop_3"
   },
   "outputs": [
    {
     "data": {
      "image/png": "[encoded data removed]",
      "text/plain": [
       "<Figure size 432x288 with 1 Axes>"
      ]
     },
     "metadata": {},
     "output_type": "display_data"
    }
   ],
   "source": [
    "#Fill in code here\n",
    "life_expectancy_adj = life_expectancy.where('time', are.above(1969)).where('geo', are.equal_to('bgd'))\n",
    "life_expectancy_adj.plot('time', 'life_expectancy_years')"
   ]
  },
  {
   "cell_type": "markdown",
   "metadata": {
    "deletable": false,
    "editable": false
   },
   "source": [
    "**Question 4.** Assuming everything else stays the same, do the trends in life expectancy in the graph above directly explain why the population growth rate decreased from 1985 to 2010 in Bangladesh? Why or why not? \n",
    "\n",
    "Hint: What happened in Bangladesh in 1991, and does that event explain the overall change in population growth rate?\n",
    "\n",
    "<!--\n",
    "BEGIN QUESTION\n",
    "name: q1_4\n",
    "manual: true\n",
    "-->\n",
    "<!-- EXPORT TO PDF -->"
   ]
  },
  {
   "cell_type": "markdown",
   "metadata": {
    "collapsed": true,
    "deletable": false,
    "export_pdf": true,
    "manual_grade": true,
    "manual_problem_id": "global_pop_4"
   },
   "source": [
    "No, the trends in life expectancy in the graph above does not explain why the populationg growth rate decreased from 1985 to 2010 in Bangladesh. The life expectancy graph above demonstrates a persistant increasing trend of life expectancy. Life expectancy is the average period that a person may expect to live. In other words, on average, people's life time is growing longer. From this information, we cannot conclude a direct causation relationship between life expectancy and population growth rate. Factors such as fertility rates can be a contributing reason to why population growth rate has changed over time. After research, we found that in 1991, there was a deadly tropical cyclone that caused the deaths of estimated 140,000 people. These abnormal death caused a great decrease in the total population of the country, increasing death rate and decreasing life expectancy rate. This could also have possibly influenced the overall change in population growth rate. Though more research needs to be done before that conclusion can be made."
   ]
  },
  {
   "cell_type": "markdown",
   "metadata": {
    "deletable": false,
    "editable": false
   },
   "source": [
    "The `fertility` table contains a statistic that is often used to measure how many babies are being born, the *total fertility rate*. This number describes the [number of children a woman would have in her lifetime](https://www.measureevaluation.org/prh/rh_indicators/specific/fertility/total-fertility-rate), on average, if the current rates of birth by age of the mother persisted throughout her child bearing years, assuming she survived through age 49. "
   ]
  },
  {
   "cell_type": "markdown",
   "metadata": {
    "deletable": false,
    "editable": false
   },
   "source": [
    "**Question 5.** Write a function `fertility_over_time` that takes the Alpha-3 code of a `country` and a `start` year. It returns a two-column table with labels `Year` and `Children per woman` that can be used to generate a line chart of the country's fertility rate each year, starting at the `start` year. The plot should include the `start` year and all later years that appear in the `fertility` table. \n",
    "\n",
    "Then, in the next cell, call your `fertility_over_time` function on the Alpha-3 code for Bangladesh and the year 1970 in order to plot how Bangladesh's fertility rate has changed since 1970. Note that the function `fertility_over_time` should not return the plot itself. **The expression that draws the line plot is provided for you; please don't change it.**\n",
    "\n",
    "<!--\n",
    "BEGIN QUESTION\n",
    "name: q1_5\n",
    "-->"
   ]
  },
  {
   "cell_type": "code",
   "execution_count": 24,
   "metadata": {
    "deletable": false
   },
   "outputs": [
    {
     "data": {
      "image/png": "[encoded data removed]",
      "text/plain": [
       "<Figure size 432x288 with 1 Axes>"
      ]
     },
     "metadata": {},
     "output_type": "display_data"
    }
   ],
   "source": [
    "def fertility_over_time(country, start):\n",
    "    \"\"\"Create a two-column table that describes a country's total fertility rate each year.\"\"\"\n",
    "    country_fertility = fertility.where('geo', are.equal_to(country))\n",
    "    country_fertility_after_start = country_fertility.where('time', are.above_or_equal_to(start))\n",
    "    cleaned_table = country_fertility_after_start.select('time', 'children_per_woman_total_fertility').relabel('time', 'Year').relabel('children_per_woman_total_fertility', 'Children per woman')\n",
    "    return cleaned_table\n",
    "\n",
    "bangladesh_code = \"bgd\"\n",
    "fertility_over_time(bangladesh_code, 1970).plot(0, 1) # You should *not* change this line."
   ]
  },
  {
   "cell_type": "code",
   "execution_count": 25,
   "metadata": {
    "deletable": false,
    "editable": false
   },
   "outputs": [
    {
     "name": "stdout",
     "output_type": "stream",
     "text": [
      "~~~~~~~~~~~~~~~~~~~~~~~~~~~~~~~~~~~~~~~~~~~~~~~~~~~~~~~~~~~~~~~~~~~~~\n",
      "Running tests\n",
      "\n",
      "---------------------------------------------------------------------\n",
      "Test summary\n",
      "    Passed: 3\n",
      "    Failed: 0\n",
      "[ooooooooook] 100.0% passed\n",
      "\n"
     ]
    }
   ],
   "source": [
    "ok.grade(\"q1_5\");"
   ]
  },
  {
   "cell_type": "markdown",
   "metadata": {
    "deletable": false,
    "editable": false
   },
   "source": [
    "**Question 6.** Assuming everything else is constant, do the trends in fertility in the graph above help directly explain why the population growth rate decreased from 1985 to 2010 in Bangladesh? Why or why not?\n",
    "\n",
    "<!--\n",
    "BEGIN QUESTION\n",
    "name: q1_6\n",
    "manual: true\n",
    "-->\n",
    "<!-- EXPORT TO PDF -->"
   ]
  },
  {
   "cell_type": "markdown",
   "metadata": {
    "deletable": false,
    "export_pdf": true,
    "manual_grade": true,
    "manual_problem_id": "global_pop_6"
   },
   "source": [
    "Yes, I think the trends in fertility in the graph above help directly explain why the population growth rate decreased from 1985 to 2010 in Bangladesh. By assuming everthing eles is constant, since the number of children per woman decrease, the number of children born declined every year from 1985 to 2010. This is the major source of additional poplulation. Therefore, the annual population would decrease from 1985 to 2010. For this reason, the lower fertility rate directly cause the population growth rate decreased.\n",
    "\n",
    "It has been observed that lower fertility rates are often associated with lower child mortality rates. The link has been attributed to family planning: if parents can expect that their children will all survive into adulthood, then they will choose to have fewer children. We can see if this association is evident in Bangladesh by plotting the relationship between total fertility rate and child mortality rate per 1000 children."
   ]
  },
  {
   "cell_type": "markdown",
   "metadata": {
    "deletable": false,
    "editable": false
   },
   "source": [
    "It has been observed that lower fertility rates are often associated with lower child mortality rates. The link has been attributed to family planning: if parents can expect that their children will all survive into adulthood, then they will choose to have fewer children. We can see if this association is evident in Bangladesh by plotting the relationship between total fertility rate and [child mortality rate per 1000 children](https://en.wikipedia.org/wiki/Child_mortality)."
   ]
  },
  {
   "cell_type": "markdown",
   "metadata": {
    "deletable": false,
    "editable": false
   },
   "source": [
    "**Question 7.** Using both the `fertility` and `child_mortality` tables, draw a scatter diagram that has Bangladesh's total fertility on the horizontal axis and its child mortality on the vertical axis with one point for each year, starting with 1970.\n",
    "\n",
    "**The expression that draws the scatter diagram is provided for you; please don't change it.** Instead, create a table called `post_1969_fertility_and_child_mortality` with the appropriate column labels and data in order to generate the chart correctly. Use the label `Children per woman` to describe total fertility and the label `Child deaths per 1000 born` to describe child mortality.\n",
    "\n",
    "<!--\n",
    "BEGIN QUESTION\n",
    "name: q1_7\n",
    "manual: false\n",
    "-->"
   ]
  },
  {
   "cell_type": "code",
   "execution_count": 26,
   "metadata": {
    "deletable": false
   },
   "outputs": [
    {
     "data": {
      "image/png": "[encoded data removed]",
      "text/plain": [
       "<Figure size 360x360 with 1 Axes>"
      ]
     },
     "metadata": {},
     "output_type": "display_data"
    }
   ],
   "source": [
    "bgd_fertility = fertility.where('geo', are.equal_to('bgd'))\n",
    "bgd_child_mortality = child_mortality.where('geo', are.equal_to('bgd')).column('child_mortality_under_5_per_1000_born')\n",
    "fertility_and_mortality = bgd_fertility.with_column('Child deaths per 1000 born', bgd_child_mortality)\n",
    "post_1969_fertility_and_child_mortality = fertility_and_mortality.drop('geo').relabel('children_per_woman_total_fertility', 'Children per woman').where('time', are.above(1969))\n",
    "\n",
    "post_1969_fertility_and_child_mortality.scatter('Children per woman', 'Child deaths per 1000 born') # You should *not* change this line."
   ]
  },
  {
   "cell_type": "code",
   "execution_count": 27,
   "metadata": {
    "deletable": false,
    "editable": false
   },
   "outputs": [
    {
     "name": "stdout",
     "output_type": "stream",
     "text": [
      "~~~~~~~~~~~~~~~~~~~~~~~~~~~~~~~~~~~~~~~~~~~~~~~~~~~~~~~~~~~~~~~~~~~~~\n",
      "Running tests\n",
      "\n",
      "---------------------------------------------------------------------\n",
      "Test summary\n",
      "    Passed: 2\n",
      "    Failed: 0\n",
      "[ooooooooook] 100.0% passed\n",
      "\n"
     ]
    }
   ],
   "source": [
    "ok.grade(\"q1_7\");"
   ]
  },
  {
   "cell_type": "markdown",
   "metadata": {
    "deletable": false,
    "editable": false
   },
   "source": [
    "**Question 8.** In one or two sentences, describe the association (if any) that is illustrated by this scatter diagram. Does the diagram show that reduced child mortality causes parents to choose to have fewer children?\n",
    "\n",
    "<!--\n",
    "BEGIN QUESTION\n",
    "name: q1_8\n",
    "manual: true\n",
    "-->\n",
    "<!-- EXPORT TO PDF -->"
   ]
  },
  {
   "cell_type": "markdown",
   "metadata": {
    "deletable": false,
    "export_pdf": true,
    "manual_grade": true,
    "manual_problem_id": "global_pop_8"
   },
   "source": [
    "As the scatter diagram for Question 7. shows, there is positive association between total fertility rate and child mortality rate per 1000 children. However, the diagram does not conclude deduced child mortality causes parents to choose to have fewer childeren. Reduced child mortality might be the reason for parents to choose to have fewer children only if I consider the y axises as the cause and x axises as the result. The diagram showed a diagonal line from the bottom left to the upper right. That means if you flip the X and Y(as the addition diagram I made to confirm my initial judgement), it still should have the same shape. The new diagram shows it's also possible to say that have fewer children causes reduced child mortatity if we just consider the x as the cause and y as the result. Additional information is needed to determine the cause."
   ]
  },
  {
   "cell_type": "markdown",
   "metadata": {},
   "source": [
    "### Checkpoint (due Friday 9/27)\n",
    "#### Congratulations, you have reached the checkpoint! Run the submit cell below to generate the checkpoint submission."
   ]
  },
  {
   "cell_type": "code",
   "execution_count": 28,
   "metadata": {},
   "outputs": [
    {
     "data": {
      "application/javascript": [
       "IPython.notebook.save_checkpoint();"
      ],
      "text/plain": [
       "<IPython.core.display.Javascript object>"
      ]
     },
     "metadata": {},
     "output_type": "display_data"
    },
    {
     "data": {
      "application/javascript": [
       "IPython.notebook.save_notebook();"
      ],
      "text/plain": [
       "<IPython.core.display.Javascript object>"
      ]
     },
     "metadata": {},
     "output_type": "display_data"
    },
    {
     "name": "stdout",
     "output_type": "stream",
     "text": [
      "Saving notebook... Saved 'project1.ipynb'.\n",
      "Submit... 100% complete\n",
      "Submission successful for user: rebeccawzy@berkeley.edu\n",
      "URL: https://okpy.org/cal/data8/fa19/project1/submissions/Rlg7rz\n",
      "\n"
     ]
    }
   ],
   "source": [
    "_ = ok.submit()"
   ]
  },
  {
   "cell_type": "markdown",
   "metadata": {
    "deletable": false,
    "editable": false
   },
   "source": [
    "### The World\n",
    "\n",
    "The change observed in Bangladesh since 1970 can also be observed in many other developing countries: health services improve, life expectancy increases, and child mortality decreases. At the same time, the fertility rate often plummets, and so the population growth rate decreases despite increasing longevity."
   ]
  },
  {
   "cell_type": "markdown",
   "metadata": {
    "deletable": false,
    "editable": false
   },
   "source": [
    "Run the cell below to generate two overlaid histograms, one for 1960 and one for 2010, that show the distributions of total fertility rates for these two years among all 201 countries in the `fertility` table."
   ]
  },
  {
   "cell_type": "code",
   "execution_count": 29,
   "metadata": {
    "deletable": false
   },
   "outputs": [
    {
     "data": {
      "image/png": "[encoded data removed]",
      "text/plain": [
       "<Figure size 432x288 with 1 Axes>"
      ]
     },
     "metadata": {},
     "output_type": "display_data"
    }
   ],
   "source": [
    "Table().with_columns(\n",
    "    '1960', fertility.where('time', 1960).column(2),\n",
    "    '2010', fertility.where('time', 2010).column(2)\n",
    ").hist(bins=np.arange(0, 10, 0.5), unit='child per woman')\n",
    "_ = plots.xlabel('Children per woman')\n",
    "_ = plots.ylabel('Percent per children per woman')\n",
    "_ = plots.xticks(np.arange(10))"
   ]
  },
  {
   "cell_type": "markdown",
   "metadata": {
    "deletable": false,
    "editable": false
   },
   "source": [
    "**Question 9.** Assign `fertility_statements` to an array of the numbers of each statement below that can be correctly inferred from these histograms.\n",
    "1. About the same number of countries had a fertility rate between 3.5 and 4.5 in both 1960 and 2010.\n",
    "1. In 2010, about 40% of countries had a fertility rate between 1.5 and 2.\n",
    "1. In 1960, less than 20% of countries had a fertility rate below 3.\n",
    "1. More countries had a fertility rate above 3 in 1960 than in 2010.\n",
    "1. At least half of countries had a fertility rate between 5 and 8 in 1960.\n",
    "1. At least half of countries had a fertility rate below 3 in 2010.\n",
    "\n",
    "<!--\n",
    "BEGIN QUESTION\n",
    "name: q1_9\n",
    "-->"
   ]
  },
  {
   "cell_type": "code",
   "execution_count": 30,
   "metadata": {
    "deletable": false
   },
   "outputs": [],
   "source": [
    "fertility_statements = make_array(1,3,4,5,6)"
   ]
  },
  {
   "cell_type": "code",
   "execution_count": 31,
   "metadata": {
    "deletable": false,
    "editable": false
   },
   "outputs": [
    {
     "name": "stdout",
     "output_type": "stream",
     "text": [
      "~~~~~~~~~~~~~~~~~~~~~~~~~~~~~~~~~~~~~~~~~~~~~~~~~~~~~~~~~~~~~~~~~~~~~\n",
      "Running tests\n",
      "\n",
      "---------------------------------------------------------------------\n",
      "Test summary\n",
      "    Passed: 1\n",
      "    Failed: 0\n",
      "[ooooooooook] 100.0% passed\n",
      "\n"
     ]
    }
   ],
   "source": [
    "ok.grade(\"q1_9\");"
   ]
  },
  {
   "cell_type": "markdown",
   "metadata": {
    "deletable": false,
    "editable": false
   },
   "source": [
    "**Question 10.** Draw a line plot of the world population from 1800 through 2005. The world population is the sum of all the country's populations. \n",
    "\n",
    "<!--\n",
    "BEGIN QUESTION\n",
    "name: q1_10\n",
    "manual: true\n",
    "-->\n",
    "<!-- EXPORT TO PDF -->"
   ]
  },
  {
   "cell_type": "code",
   "execution_count": 32,
   "metadata": {
    "deletable": false,
    "export_pdf": true,
    "manual_grade": true,
    "manual_problem_id": "global_pop_10"
   },
   "outputs": [
    {
     "data": {
      "image/png": "[encoded data removed]",
      "text/plain": [
       "<Figure size 432x288 with 1 Axes>"
      ]
     },
     "metadata": {},
     "output_type": "display_data"
    }
   ],
   "source": [
    "#Fill in code here\n",
    "world_population = population.where('time', are.between_or_equal_to(1800,2005)).group('time', sum).drop('geo sum').relabel('population_total sum', 'world population')\n",
    "world_population.plot('time')"
   ]
  },
  {
   "cell_type": "markdown",
   "metadata": {
    "deletable": false,
    "editable": false
   },
   "source": [
    "**Question 11.** Create a function `stats_for_year` that takes a `year` and returns a table of statistics. The table it returns should have four columns: `geo`, `population_total`, `children_per_woman_total_fertility`, and `child_mortality_under_5_per_1000_born`. Each row should contain one Alpha-3 country code and three statistics: population, fertility rate, and child mortality for that `year` from the `population`, `fertility` and `child_mortality` tables. Only include rows for which all three statistics are available for the country and year.\n",
    "\n",
    "In addition, restrict the result to country codes that appears in `big_50`, an array of the 50 most populous countries in 2010. This restriction will speed up computations later in the project.\n",
    "\n",
    "After you write `stats_for_year`, try calling `stats_for_year` on any year between 1960 and 2010. Try to understand the output of stats_for_year.\n",
    "\n",
    "*Hint*: The tests for this question are quite comprehensive, so if you pass the tests, your function is probably correct. However, without calling your function yourself and looking at the output, it will be very difficult to understand any problems you have, so try your best to write the function correctly and check that it works before you rely on the `ok` tests to confirm your work.\n",
    "\n",
    "<!--\n",
    "BEGIN QUESTION\n",
    "name: q1_11\n",
    "manual: false\n",
    "-->"
   ]
  },
  {
   "cell_type": "code",
   "execution_count": 33,
   "metadata": {
    "deletable": false
   },
   "outputs": [
    {
     "data": {
      "text/html": [
       "<table border=\"1\" class=\"dataframe\">\n",
       "    <thead>\n",
       "        <tr>\n",
       "            <th>geo</th> <th>population_total</th> <th>children_per_woman_total_fertility</th> <th>child_mortality_under_5_per_1000_born</th>\n",
       "        </tr>\n",
       "    </thead>\n",
       "    <tbody>\n",
       "        <tr>\n",
       "            <td>afg </td> <td>8994793         </td> <td>7.67                              </td> <td>362.4                                </td>\n",
       "        </tr>\n",
       "        <tr>\n",
       "            <td>arg </td> <td>20619075        </td> <td>3.11                              </td> <td>73.2                                 </td>\n",
       "        </tr>\n",
       "        <tr>\n",
       "            <td>bgd </td> <td>48200702        </td> <td>6.73                              </td> <td>264.3                                </td>\n",
       "        </tr>\n",
       "        <tr>\n",
       "            <td>bra </td> <td>72493585        </td> <td>6.21                              </td> <td>171.8                                </td>\n",
       "        </tr>\n",
       "        <tr>\n",
       "            <td>can </td> <td>17909232        </td> <td>3.91                              </td> <td>32.6                                 </td>\n",
       "        </tr>\n",
       "        <tr>\n",
       "            <td>chn </td> <td>644450173       </td> <td>3.99                              </td> <td>309                                  </td>\n",
       "        </tr>\n",
       "        <tr>\n",
       "            <td>cod </td> <td>15248246        </td> <td>6                                 </td> <td>266                                  </td>\n",
       "        </tr>\n",
       "        <tr>\n",
       "            <td>col </td> <td>16480384        </td> <td>6.81                              </td> <td>127.3                                </td>\n",
       "        </tr>\n",
       "        <tr>\n",
       "            <td>deu </td> <td>73179665        </td> <td>2.41                              </td> <td>42.87                                </td>\n",
       "        </tr>\n",
       "        <tr>\n",
       "            <td>dza </td> <td>11124892        </td> <td>7.65                              </td> <td>245.7                                </td>\n",
       "        </tr>\n",
       "    </tbody>\n",
       "</table>\n",
       "<p>... (40 rows omitted)</p>"
      ],
      "text/plain": [
       "geo  | population_total | children_per_woman_total_fertility | child_mortality_under_5_per_1000_born\n",
       "afg  | 8994793          | 7.67                               | 362.4\n",
       "arg  | 20619075         | 3.11                               | 73.2\n",
       "bgd  | 48200702         | 6.73                               | 264.3\n",
       "bra  | 72493585         | 6.21                               | 171.8\n",
       "can  | 17909232         | 3.91                               | 32.6\n",
       "chn  | 644450173        | 3.99                               | 309\n",
       "cod  | 15248246         | 6                                  | 266\n",
       "col  | 16480384         | 6.81                               | 127.3\n",
       "deu  | 73179665         | 2.41                               | 42.87\n",
       "dza  | 11124892         | 7.65                               | 245.7\n",
       "... (40 rows omitted)"
      ]
     },
     "execution_count": 33,
     "metadata": {},
     "output_type": "execute_result"
    }
   ],
   "source": [
    "# We first create a population table that only includes the \n",
    "# 50 countries with the largest 2010 populations. We focus on \n",
    "# these 50 countries only so that plotting later will run faster.\n",
    "big_50 = population.where('time', are.equal_to(2010)).sort(\"population_total\", descending=True).take(np.arange(50)).column('geo')\n",
    "population_of_big_50 = population.where('time', are.above(1959)).where('geo', are.contained_in(big_50))\n",
    "\n",
    "def stats_for_year(year):\n",
    "    \"\"\"Return a table of the stats for each country that year.\"\"\"\n",
    "    p = population_of_big_50.where('time', are.equal_to(year)).drop('time')\n",
    "    f = fertility.where('time', are.equal_to(year)).drop('time')\n",
    "    c = child_mortality.where('time', are.equal_to(year)).drop('time')\n",
    "    yearstats = p.join('geo', f).join('geo', c)\n",
    "    return yearstats\n",
    "\n",
    "stats_for_year(1960)"
   ]
  },
  {
   "cell_type": "code",
   "execution_count": 34,
   "metadata": {
    "deletable": false,
    "editable": false
   },
   "outputs": [
    {
     "name": "stdout",
     "output_type": "stream",
     "text": [
      "~~~~~~~~~~~~~~~~~~~~~~~~~~~~~~~~~~~~~~~~~~~~~~~~~~~~~~~~~~~~~~~~~~~~~\n",
      "Running tests\n",
      "\n",
      "---------------------------------------------------------------------\n",
      "Test summary\n",
      "    Passed: 4\n",
      "    Failed: 0\n",
      "[ooooooooook] 100.0% passed\n",
      "\n"
     ]
    }
   ],
   "source": [
    "ok.grade(\"q1_11\");"
   ]
  },
  {
   "cell_type": "markdown",
   "metadata": {
    "deletable": false,
    "editable": false
   },
   "source": [
    "**Question 12.** Create a table called `pop_by_decade` with two columns called `decade` and `population`. It has a row for each `year` since 1960 that starts a decade. The `population` column contains the total population of all countries included in the result of `stats_for_year(year)` for the first `year` of the decade. For example, 1960 is the first year of the 1960's decade. You should see that these countries contain most of the world's population.\n",
    "\n",
    "*Hint:* One approach is to define a function `pop_for_year` that computes this total population, then `apply` it to the `decade` column.  The `stats_for_year` function from the previous question may be useful here.\n",
    "\n",
    "This first test is just a sanity check for your helper function if you choose to use it. You will not lose points for not implementing the function `pop_for_year`.\n",
    "\n",
    "**Note:** The cell where you will generate the `pop_by_decade` table is below the cell where you can choose to define the helper function `pop_for_year`. You should define your `pop_by_decade` table in the cell that starts with the table `decades` being defined. \n",
    "\n",
    "<!--\n",
    "BEGIN QUESTION\n",
    "name: q1_12_0\n",
    "manual: false\n",
    "points: 0\n",
    "-->"
   ]
  },
  {
   "cell_type": "code",
   "execution_count": 35,
   "metadata": {},
   "outputs": [
    {
     "data": {
      "text/plain": [
       "2624944597"
      ]
     },
     "execution_count": 35,
     "metadata": {},
     "output_type": "execute_result"
    }
   ],
   "source": [
    "def pop_for_year(year):\n",
    "    pop_for_year = sum(stats_for_year(year).column('population_total'))\n",
    "    return pop_for_year\n",
    "\n",
    "pop_for_year(1960)"
   ]
  },
  {
   "cell_type": "code",
   "execution_count": 36,
   "metadata": {
    "deletable": false,
    "editable": false
   },
   "outputs": [
    {
     "name": "stdout",
     "output_type": "stream",
     "text": [
      "~~~~~~~~~~~~~~~~~~~~~~~~~~~~~~~~~~~~~~~~~~~~~~~~~~~~~~~~~~~~~~~~~~~~~\n",
      "Running tests\n",
      "\n",
      "---------------------------------------------------------------------\n",
      "Test summary\n",
      "    Passed: 3\n",
      "    Failed: 0\n",
      "[ooooooooook] 100.0% passed\n",
      "\n"
     ]
    }
   ],
   "source": [
    "ok.grade(\"q1_12_0\");"
   ]
  },
  {
   "cell_type": "markdown",
   "metadata": {
    "deletable": false,
    "editable": false
   },
   "source": [
    "Now that you've defined your helper function (if you've chosen to do so), define the `pop_by_decade` table.\n",
    "\n",
    "<!--\n",
    "BEGIN QUESTION\n",
    "name: q1_12\n",
    "manual: false\n",
    "-->"
   ]
  },
  {
   "cell_type": "code",
   "execution_count": 37,
   "metadata": {
    "deletable": false
   },
   "outputs": [
    {
     "data": {
      "text/html": [
       "<table border=\"1\" class=\"dataframe\">\n",
       "    <thead>\n",
       "        <tr>\n",
       "            <th>decade</th> <th>population</th>\n",
       "        </tr>\n",
       "    </thead>\n",
       "    <tbody>\n",
       "        <tr>\n",
       "            <td>1960  </td> <td>2,624,944,597</td>\n",
       "        </tr>\n",
       "        <tr>\n",
       "            <td>1970  </td> <td>3,211,487,418</td>\n",
       "        </tr>\n",
       "        <tr>\n",
       "            <td>1980  </td> <td>3,880,722,003</td>\n",
       "        </tr>\n",
       "        <tr>\n",
       "            <td>1990  </td> <td>4,648,434,558</td>\n",
       "        </tr>\n",
       "        <tr>\n",
       "            <td>2000  </td> <td>5,367,553,063</td>\n",
       "        </tr>\n",
       "        <tr>\n",
       "            <td>2010  </td> <td>6,040,810,517</td>\n",
       "        </tr>\n",
       "    </tbody>\n",
       "</table>"
      ],
      "text/plain": [
       "decade | population\n",
       "1960   | 2,624,944,597\n",
       "1970   | 3,211,487,418\n",
       "1980   | 3,880,722,003\n",
       "1990   | 4,648,434,558\n",
       "2000   | 5,367,553,063\n",
       "2010   | 6,040,810,517"
      ]
     },
     "execution_count": 37,
     "metadata": {},
     "output_type": "execute_result"
    }
   ],
   "source": [
    "decades = Table().with_column('decade', np.arange(1960, 2011, 10))\n",
    "\n",
    "pop_by_decade = decades.with_column('population', decades.apply(pop_for_year, 'decade'))\n",
    "pop_by_decade.set_format(1, NumberFormatter)"
   ]
  },
  {
   "cell_type": "code",
   "execution_count": 38,
   "metadata": {
    "deletable": false,
    "editable": false
   },
   "outputs": [
    {
     "name": "stdout",
     "output_type": "stream",
     "text": [
      "~~~~~~~~~~~~~~~~~~~~~~~~~~~~~~~~~~~~~~~~~~~~~~~~~~~~~~~~~~~~~~~~~~~~~\n",
      "Running tests\n",
      "\n",
      "---------------------------------------------------------------------\n",
      "Test summary\n",
      "    Passed: 2\n",
      "    Failed: 0\n",
      "[ooooooooook] 100.0% passed\n",
      "\n"
     ]
    }
   ],
   "source": [
    "ok.grade(\"q1_12\");"
   ]
  },
  {
   "cell_type": "markdown",
   "metadata": {
    "deletable": false,
    "editable": false
   },
   "source": [
    "The `countries` table describes various characteristics of countries. The `country` column contains the same codes as the `geo` column in each of the other data tables (`population`, `fertility`, and `child_mortality`). The `world_6region` column classifies each country into a region of the world. Run the cell below to inspect the data."
   ]
  },
  {
   "cell_type": "code",
   "execution_count": 39,
   "metadata": {},
   "outputs": [
    {
     "data": {
      "text/html": [
       "<table border=\"1\" class=\"dataframe\">\n",
       "    <thead>\n",
       "        <tr>\n",
       "            <th>country</th> <th>name</th> <th>world_6region</th>\n",
       "        </tr>\n",
       "    </thead>\n",
       "    <tbody>\n",
       "        <tr>\n",
       "            <td>afg      </td> <td>Afghanistan          </td> <td>south_asia              </td>\n",
       "        </tr>\n",
       "        <tr>\n",
       "            <td>akr_a_dhe</td> <td>Akrotiri and Dhekelia</td> <td>europe_central_asia     </td>\n",
       "        </tr>\n",
       "        <tr>\n",
       "            <td>alb      </td> <td>Albania              </td> <td>europe_central_asia     </td>\n",
       "        </tr>\n",
       "        <tr>\n",
       "            <td>dza      </td> <td>Algeria              </td> <td>middle_east_north_africa</td>\n",
       "        </tr>\n",
       "        <tr>\n",
       "            <td>asm      </td> <td>American Samoa       </td> <td>east_asia_pacific       </td>\n",
       "        </tr>\n",
       "        <tr>\n",
       "            <td>and      </td> <td>Andorra              </td> <td>europe_central_asia     </td>\n",
       "        </tr>\n",
       "        <tr>\n",
       "            <td>ago      </td> <td>Angola               </td> <td>sub_saharan_africa      </td>\n",
       "        </tr>\n",
       "        <tr>\n",
       "            <td>aia      </td> <td>Anguilla             </td> <td>america                 </td>\n",
       "        </tr>\n",
       "        <tr>\n",
       "            <td>atg      </td> <td>Antigua and Barbuda  </td> <td>america                 </td>\n",
       "        </tr>\n",
       "        <tr>\n",
       "            <td>arg      </td> <td>Argentina            </td> <td>america                 </td>\n",
       "        </tr>\n",
       "    </tbody>\n",
       "</table>\n",
       "<p>... (245 rows omitted)</p>"
      ],
      "text/plain": [
       "country   | name                  | world_6region\n",
       "afg       | Afghanistan           | south_asia\n",
       "akr_a_dhe | Akrotiri and Dhekelia | europe_central_asia\n",
       "alb       | Albania               | europe_central_asia\n",
       "dza       | Algeria               | middle_east_north_africa\n",
       "asm       | American Samoa        | east_asia_pacific\n",
       "and       | Andorra               | europe_central_asia\n",
       "ago       | Angola                | sub_saharan_africa\n",
       "aia       | Anguilla              | america\n",
       "atg       | Antigua and Barbuda   | america\n",
       "arg       | Argentina             | america\n",
       "... (245 rows omitted)"
      ]
     },
     "execution_count": 39,
     "metadata": {},
     "output_type": "execute_result"
    }
   ],
   "source": [
    "countries = Table.read_table('countries.csv').where('country', are.contained_in(population.group('geo').column('geo')))\n",
    "countries.select('country', 'name', 'world_6region')"
   ]
  },
  {
   "cell_type": "markdown",
   "metadata": {
    "deletable": false,
    "editable": false
   },
   "source": [
    "**Question 13.** Create a table called `region_counts` that has two columns, `region` and `count`. It should contain two columns: a region column and a count column that contains the number of countries in each region that appear in the result of `stats_for_year(1960)`. For example, one row would have `south_asia` as its `world_6region` value and an integer as its `count` value: the number of large South Asian countries for which we have population, fertility, and child mortality numbers from 1960.\n",
    "\n",
    "<!--\n",
    "BEGIN QUESTION\n",
    "name: q1_13\n",
    "-->"
   ]
  },
  {
   "cell_type": "code",
   "execution_count": 40,
   "metadata": {
    "deletable": false
   },
   "outputs": [
    {
     "data": {
      "text/html": [
       "<table border=\"1\" class=\"dataframe\">\n",
       "    <thead>\n",
       "        <tr>\n",
       "            <th>region</th> <th>count</th>\n",
       "        </tr>\n",
       "    </thead>\n",
       "    <tbody>\n",
       "        <tr>\n",
       "            <td>america                 </td> <td>8    </td>\n",
       "        </tr>\n",
       "        <tr>\n",
       "            <td>east_asia_pacific       </td> <td>10   </td>\n",
       "        </tr>\n",
       "        <tr>\n",
       "            <td>europe_central_asia     </td> <td>10   </td>\n",
       "        </tr>\n",
       "        <tr>\n",
       "            <td>middle_east_north_africa</td> <td>7    </td>\n",
       "        </tr>\n",
       "        <tr>\n",
       "            <td>south_asia              </td> <td>5    </td>\n",
       "        </tr>\n",
       "        <tr>\n",
       "            <td>sub_saharan_africa      </td> <td>10   </td>\n",
       "        </tr>\n",
       "    </tbody>\n",
       "</table>"
      ],
      "text/plain": [
       "region                   | count\n",
       "america                  | 8\n",
       "east_asia_pacific        | 10\n",
       "europe_central_asia      | 10\n",
       "middle_east_north_africa | 7\n",
       "south_asia               | 5\n",
       "sub_saharan_africa       | 10"
      ]
     },
     "execution_count": 40,
     "metadata": {},
     "output_type": "execute_result"
    }
   ],
   "source": [
    "region_counts = stats_for_year(1960).join('geo', countries,'country').group('world_6region').relabel('world_6region', 'region')\n",
    "region_counts"
   ]
  },
  {
   "cell_type": "code",
   "execution_count": 41,
   "metadata": {
    "deletable": false,
    "editable": false
   },
   "outputs": [
    {
     "name": "stdout",
     "output_type": "stream",
     "text": [
      "~~~~~~~~~~~~~~~~~~~~~~~~~~~~~~~~~~~~~~~~~~~~~~~~~~~~~~~~~~~~~~~~~~~~~\n",
      "Running tests\n",
      "\n",
      "---------------------------------------------------------------------\n",
      "Test summary\n",
      "    Passed: 2\n",
      "    Failed: 0\n",
      "[ooooooooook] 100.0% passed\n",
      "\n"
     ]
    }
   ],
   "source": [
    "ok.grade(\"q1_13\");"
   ]
  },
  {
   "cell_type": "markdown",
   "metadata": {
    "deletable": false,
    "editable": false
   },
   "source": [
    "The following scatter diagram compares total fertility rate and child mortality rate for each country in 1960. The area of each dot represents the population of the country, and the color represents its region of the world. Run the cell. Do you think you can identify any of the dots?"
   ]
  },
  {
   "cell_type": "code",
   "execution_count": 45,
   "metadata": {
    "deletable": false
   },
   "outputs": [
    {
     "data": {
      "image/png": "[encoded data removed]",
      "text/plain": [
       "<Figure size 360x360 with 1 Axes>"
      ]
     },
     "metadata": {},
     "output_type": "display_data"
    }
   ],
   "source": [
    "from functools import lru_cache as cache\n",
    "\n",
    "# This cache annotation makes sure that if the same year\n",
    "# is passed as an argument twice, the work of computing\n",
    "# the result is only carried out once.\n",
    "@cache(None)\n",
    "def stats_relabeled(year):\n",
    "    \"\"\"Relabeled and cached version of stats_for_year.\"\"\"\n",
    "    return stats_for_year(year).relabel(2, 'Children per woman').relabel(3, 'Child deaths per 1000 born')\n",
    "\n",
    "def fertility_vs_child_mortality(year):\n",
    "    \"\"\"Draw a color scatter diagram comparing child mortality and fertility.\"\"\"\n",
    "    with_region = stats_relabeled(year).join('geo', countries.select('country', 'world_6region'), 'country')\n",
    "    with_region.scatter(2, 3, sizes=1, group=4, s=500)\n",
    "    plots.xlim(0,10)\n",
    "    plots.ylim(-50, 500)\n",
    "    plots.title(year)\n",
    "\n",
    "fertility_vs_child_mortality(1960)"
   ]
  },
  {
   "cell_type": "markdown",
   "metadata": {
    "deletable": false,
    "editable": false
   },
   "source": [
    "**Question 14.** Assign `scatter_statements` to an array of the numbers of each statement below that can be inferred from this scatter diagram for 1960. \n",
    "1. As a whole, the `europe_central_asia` region had the lowest child mortality rate.\n",
    "1. The lowest child mortality rate of any country was from an `east_asia_pacific` country.\n",
    "1. Most countries had a fertility rate above 5.\n",
    "1. There was an association between child mortality and fertility.\n",
    "1. The two largest countries by population also had the two highest child mortality rate.\n",
    "\n",
    "<!--\n",
    "BEGIN QUESTION\n",
    "name: q1_14\n",
    "-->"
   ]
  },
  {
   "cell_type": "code",
   "execution_count": 42,
   "metadata": {
    "deletable": false
   },
   "outputs": [],
   "source": [
    "scatter_statements = make_array(1,3,4)"
   ]
  },
  {
   "cell_type": "code",
   "execution_count": 43,
   "metadata": {
    "deletable": false,
    "editable": false
   },
   "outputs": [
    {
     "name": "stdout",
     "output_type": "stream",
     "text": [
      "~~~~~~~~~~~~~~~~~~~~~~~~~~~~~~~~~~~~~~~~~~~~~~~~~~~~~~~~~~~~~~~~~~~~~\n",
      "Running tests\n",
      "\n",
      "---------------------------------------------------------------------\n",
      "Test summary\n",
      "    Passed: 1\n",
      "    Failed: 0\n",
      "[ooooooooook] 100.0% passed\n",
      "\n"
     ]
    }
   ],
   "source": [
    "ok.grade(\"q1_14\");"
   ]
  },
  {
   "cell_type": "markdown",
   "metadata": {
    "deletable": false
   },
   "source": [
    "The result of the cell below is interactive. Drag the slider to the right to see how countries have changed over time. You'll find that the great divide between so-called \"Western\" and \"developing\" countries that existed in the 1960's has nearly disappeared. This shift in fertility rates is the reason that the global population is expected to grow more slowly in the 21st century than it did in the 19th and 20th centuries.\n",
    "\n",
    "**Note:** Don't worry if a red warning pops up when running the cell below. You'll still be able to run the cell!"
   ]
  },
  {
   "cell_type": "code",
   "execution_count": 46,
   "metadata": {
    "deletable": false,
    "scrolled": false
   },
   "outputs": [
    {
     "name": "stderr",
     "output_type": "stream",
     "text": [
      "/srv/app/venv/lib/python3.6/site-packages/datascience/tables.py:193: FutureWarning: Implicit column method lookup is deprecated.\n",
      "  warnings.warn(\"Implicit column method lookup is deprecated.\", FutureWarning)\n"
     ]
    },
    {
     "data": {
      "application/vnd.jupyter.widget-view+json": {
       "model_id": "147e53a12aa94722ae5db4ed5ba01c11",
       "version_major": 2,
       "version_minor": 0
      },
      "text/plain": [
       "interactive(children=(IntSlider(value=1960, description='year', max=2015, min=1960), Output()), _dom_classes=(…"
      ]
     },
     "metadata": {},
     "output_type": "display_data"
    }
   ],
   "source": [
    "import ipywidgets as widgets\n",
    "\n",
    "# This part takes a few minutes to run because it \n",
    "# computes 55 tables in advance: one for each year.\n",
    "Table().with_column('Year', np.arange(1960, 2016)).apply(stats_relabeled, 'Year')\n",
    "\n",
    "_ = widgets.interact(fertility_vs_child_mortality, \n",
    "                     year=widgets.IntSlider(min=1960, max=2015, value=1960))"
   ]
  },
  {
   "cell_type": "markdown",
   "metadata": {
    "deletable": false,
    "editable": false
   },
   "source": [
    "Now is a great time to take a break and watch the same data presented by [Hans Rosling in a 2010 TEDx talk](https://www.gapminder.org/videos/reducing-child-mortality-a-moral-and-environmental-imperative) with smoother animation and witty commentary."
   ]
  },
  {
   "cell_type": "markdown",
   "metadata": {
    "deletable": false,
    "editable": false
   },
   "source": [
    "## 2. Global Poverty\n"
   ]
  },
  {
   "cell_type": "markdown",
   "metadata": {
    "deletable": false,
    "editable": false
   },
   "source": [
    "In 1800, 85% of the world's 1 billion people lived in *extreme poverty*, defined by the United Nations as \"a condition characterized by severe deprivation of basic human needs, including food, safe drinking water, sanitation facilities, health, shelter, education and information.\" A common measure of extreme poverty is a person living on less than \\$1.25 per day.\n",
    "\n",
    "In 2018, the proportion of people living in extreme poverty was estimated to be 8%. Although the world rate of extreme poverty has declined consistently for hundreds of years, the number of people living in extreme poverty is still over 600 million. The United Nations recently adopted an [ambitious goal](http://www.un.org/sustainabledevelopment/poverty/): \"By 2030, eradicate extreme poverty for all people everywhere.\"\n",
    "In this section, we will examine extreme poverty trends around the world."
   ]
  },
  {
   "cell_type": "markdown",
   "metadata": {
    "deletable": false,
    "editable": false
   },
   "source": [
    "First, load the population and poverty rate by country and year and the country descriptions. While the `population` table has values for every recent year for many countries, the `poverty` table only includes certain years for each country in which a measurement of the rate of extreme poverty was available."
   ]
  },
  {
   "cell_type": "code",
   "execution_count": 47,
   "metadata": {},
   "outputs": [
    {
     "data": {
      "text/html": [
       "<table border=\"1\" class=\"dataframe\">\n",
       "    <thead>\n",
       "        <tr>\n",
       "            <th>geo</th> <th>time</th> <th>extreme_poverty_percent_people_below_125_a_day</th>\n",
       "        </tr>\n",
       "    </thead>\n",
       "    <tbody>\n",
       "        <tr>\n",
       "            <td>alb </td> <td>1996</td> <td>0.2                                           </td>\n",
       "        </tr>\n",
       "        <tr>\n",
       "            <td>alb </td> <td>2002</td> <td>0.73                                          </td>\n",
       "        </tr>\n",
       "        <tr>\n",
       "            <td>alb </td> <td>2004</td> <td>0.53                                          </td>\n",
       "        </tr>\n",
       "    </tbody>\n",
       "</table>\n",
       "<p>... (1096 rows omitted)</p>"
      ],
      "text/plain": [
       "<IPython.core.display.HTML object>"
      ]
     },
     "metadata": {},
     "output_type": "display_data"
    }
   ],
   "source": [
    "population = Table.read_table('population.csv')\n",
    "countries = Table.read_table('countries.csv').where('country', are.contained_in(population.group('geo').column('geo')))\n",
    "poverty = Table.read_table('poverty.csv')\n",
    "poverty.show(3)"
   ]
  },
  {
   "cell_type": "markdown",
   "metadata": {
    "deletable": false,
    "editable": false
   },
   "source": [
    "**Question 1.** Assign `latest_poverty` to a three-column table with one row for each country that appears in the `poverty` table. The first column should contain the 3-letter code for the country. The second column should contain the most recent year for which an extreme poverty rate is available for the country. The third column should contain the poverty rate in that year. **Do not change the last line, so that the labels of your table are set correctly.**\n",
    "\n",
    "*Hint*: think about how ```group``` works: it does a sequential search of the table (from top to bottom) and collects values in the array in the order in which they appear, and then applies a function to that array. The `first` function may be helpful, but you are not required to use it.\n",
    "\n",
    "<!--\n",
    "BEGIN QUESTION\n",
    "name: q2_1\n",
    "-->"
   ]
  },
  {
   "cell_type": "code",
   "execution_count": 48,
   "metadata": {
    "deletable": false
   },
   "outputs": [
    {
     "data": {
      "text/html": [
       "<table border=\"1\" class=\"dataframe\">\n",
       "    <thead>\n",
       "        <tr>\n",
       "            <th>geo</th> <th>time</th> <th>poverty_percent</th>\n",
       "        </tr>\n",
       "    </thead>\n",
       "    <tbody>\n",
       "        <tr>\n",
       "            <td>ago </td> <td>2009</td> <td>43.37          </td>\n",
       "        </tr>\n",
       "        <tr>\n",
       "            <td>alb </td> <td>2012</td> <td>0.46           </td>\n",
       "        </tr>\n",
       "        <tr>\n",
       "            <td>arg </td> <td>2011</td> <td>1.41           </td>\n",
       "        </tr>\n",
       "        <tr>\n",
       "            <td>arm </td> <td>2012</td> <td>1.75           </td>\n",
       "        </tr>\n",
       "        <tr>\n",
       "            <td>aus </td> <td>2003</td> <td>1.36           </td>\n",
       "        </tr>\n",
       "        <tr>\n",
       "            <td>aut </td> <td>2004</td> <td>0.34           </td>\n",
       "        </tr>\n",
       "        <tr>\n",
       "            <td>aze </td> <td>2008</td> <td>0.31           </td>\n",
       "        </tr>\n",
       "        <tr>\n",
       "            <td>bdi </td> <td>2006</td> <td>81.32          </td>\n",
       "        </tr>\n",
       "        <tr>\n",
       "            <td>bel </td> <td>2000</td> <td>0.5            </td>\n",
       "        </tr>\n",
       "        <tr>\n",
       "            <td>ben </td> <td>2012</td> <td>51.61          </td>\n",
       "        </tr>\n",
       "    </tbody>\n",
       "</table>\n",
       "<p>... (135 rows omitted)</p>"
      ],
      "text/plain": [
       "geo  | time | poverty_percent\n",
       "ago  | 2009 | 43.37\n",
       "alb  | 2012 | 0.46\n",
       "arg  | 2011 | 1.41\n",
       "arm  | 2012 | 1.75\n",
       "aus  | 2003 | 1.36\n",
       "aut  | 2004 | 0.34\n",
       "aze  | 2008 | 0.31\n",
       "bdi  | 2006 | 81.32\n",
       "bel  | 2000 | 0.5\n",
       "ben  | 2012 | 51.61\n",
       "... (135 rows omitted)"
      ]
     },
     "execution_count": 48,
     "metadata": {},
     "output_type": "execute_result"
    }
   ],
   "source": [
    "def first(values):\n",
    "    return values.item(0)\n",
    "\n",
    "latest_poverty = poverty.sort('time', descending=True).group('geo', first)\n",
    "latest_poverty = latest_poverty.relabeled(0, 'geo').relabeled(1, 'time').relabeled(2, 'poverty_percent') # You should *not* change this line.\n",
    "latest_poverty"
   ]
  },
  {
   "cell_type": "code",
   "execution_count": 49,
   "metadata": {
    "deletable": false,
    "editable": false
   },
   "outputs": [
    {
     "name": "stdout",
     "output_type": "stream",
     "text": [
      "~~~~~~~~~~~~~~~~~~~~~~~~~~~~~~~~~~~~~~~~~~~~~~~~~~~~~~~~~~~~~~~~~~~~~\n",
      "Running tests\n",
      "\n",
      "---------------------------------------------------------------------\n",
      "Test summary\n",
      "    Passed: 2\n",
      "    Failed: 0\n",
      "[ooooooooook] 100.0% passed\n",
      "\n"
     ]
    }
   ],
   "source": [
    "ok.grade(\"q2_1\");"
   ]
  },
  {
   "cell_type": "markdown",
   "metadata": {
    "deletable": false,
    "editable": false
   },
   "source": [
    "**Question 2.** Using both `latest_poverty` and `population`, create a four-column table called `recent_poverty_total` with one row for each country in `latest_poverty`. The four columns should have the following labels and contents:\n",
    "1. `geo` contains the 3-letter country code,\n",
    "1. `poverty_percent` contains the most recent poverty percent,\n",
    "1. `population_total` contains the population of the country in 2010,\n",
    "1. `poverty_total` contains the number of people in poverty **rounded to the nearest integer**, based on the 2010 population and most recent poverty rate.\n",
    "\n",
    "<!--\n",
    "BEGIN QUESTION\n",
    "name: q2_2\n",
    "-->"
   ]
  },
  {
   "cell_type": "code",
   "execution_count": 50,
   "metadata": {
    "deletable": false
   },
   "outputs": [
    {
     "data": {
      "text/html": [
       "<table border=\"1\" class=\"dataframe\">\n",
       "    <thead>\n",
       "        <tr>\n",
       "            <th>geo</th> <th>poverty_percent</th> <th>population_total</th> <th>poverty_total</th>\n",
       "        </tr>\n",
       "    </thead>\n",
       "    <tbody>\n",
       "        <tr>\n",
       "            <td>ago </td> <td>43.37          </td> <td>21219954        </td> <td>9.20309e+06  </td>\n",
       "        </tr>\n",
       "        <tr>\n",
       "            <td>alb </td> <td>0.46           </td> <td>2901883         </td> <td>13349        </td>\n",
       "        </tr>\n",
       "        <tr>\n",
       "            <td>arg </td> <td>1.41           </td> <td>41222875        </td> <td>581243       </td>\n",
       "        </tr>\n",
       "        <tr>\n",
       "            <td>arm </td> <td>1.75           </td> <td>2963496         </td> <td>51861        </td>\n",
       "        </tr>\n",
       "        <tr>\n",
       "            <td>aus </td> <td>1.36           </td> <td>22162863        </td> <td>301415       </td>\n",
       "        </tr>\n",
       "        <tr>\n",
       "            <td>aut </td> <td>0.34           </td> <td>8391986         </td> <td>28533        </td>\n",
       "        </tr>\n",
       "        <tr>\n",
       "            <td>aze </td> <td>0.31           </td> <td>9099893         </td> <td>28210        </td>\n",
       "        </tr>\n",
       "        <tr>\n",
       "            <td>bdi </td> <td>81.32          </td> <td>9461117         </td> <td>7.69378e+06  </td>\n",
       "        </tr>\n",
       "        <tr>\n",
       "            <td>bel </td> <td>0.5            </td> <td>10929978        </td> <td>54650        </td>\n",
       "        </tr>\n",
       "        <tr>\n",
       "            <td>ben </td> <td>51.61          </td> <td>9509798         </td> <td>4.90801e+06  </td>\n",
       "        </tr>\n",
       "    </tbody>\n",
       "</table>\n",
       "<p>... (135 rows omitted)</p>"
      ],
      "text/plain": [
       "geo  | poverty_percent | population_total | poverty_total\n",
       "ago  | 43.37           | 21219954         | 9.20309e+06\n",
       "alb  | 0.46            | 2901883          | 13349\n",
       "arg  | 1.41            | 41222875         | 581243\n",
       "arm  | 1.75            | 2963496          | 51861\n",
       "aus  | 1.36            | 22162863         | 301415\n",
       "aut  | 0.34            | 8391986          | 28533\n",
       "aze  | 0.31            | 9099893          | 28210\n",
       "bdi  | 81.32           | 9461117          | 7.69378e+06\n",
       "bel  | 0.5             | 10929978         | 54650\n",
       "ben  | 51.61           | 9509798          | 4.90801e+06\n",
       "... (135 rows omitted)"
      ]
     },
     "execution_count": 50,
     "metadata": {},
     "output_type": "execute_result"
    }
   ],
   "source": [
    "poverty_and_pop = latest_poverty.join('geo', population.where('time', are.equal_to(2010))).drop('time_2').drop('time')\n",
    "poverty_total = np.round(poverty_and_pop.column('poverty_percent')/100*poverty_and_pop.column('population_total'), 0)\n",
    "recent_poverty_total = poverty_and_pop.with_column('poverty_total', poverty_total)\n",
    "recent_poverty_total"
   ]
  },
  {
   "cell_type": "code",
   "execution_count": 51,
   "metadata": {
    "deletable": false,
    "editable": false
   },
   "outputs": [
    {
     "name": "stdout",
     "output_type": "stream",
     "text": [
      "~~~~~~~~~~~~~~~~~~~~~~~~~~~~~~~~~~~~~~~~~~~~~~~~~~~~~~~~~~~~~~~~~~~~~\n",
      "Running tests\n",
      "\n",
      "---------------------------------------------------------------------\n",
      "Test summary\n",
      "    Passed: 3\n",
      "    Failed: 0\n",
      "[ooooooooook] 100.0% passed\n",
      "\n"
     ]
    }
   ],
   "source": [
    "ok.grade(\"q2_2\");"
   ]
  },
  {
   "cell_type": "markdown",
   "metadata": {
    "deletable": false,
    "editable": false
   },
   "source": [
    "**Question 3.** Assign the name `poverty_percent` to the known percentage of the world’s 2010 population that were living in extreme poverty. Assume that the `poverty_total` numbers in the `recent_poverty_total` table describe **all** people in 2010 living in extreme poverty. You should find a number that is above the 2018 global estimate of 8%, since many country-specific poverty rates are older than 2018.\n",
    "\n",
    "*Hint*: The sum of the `population_total` column in the `recent_poverty_total` table is not the world population, because only a subset of the world's countries are included in the `recent_poverty_total` table (only some countries have known poverty rates). Use the `population` table to compute the world's 2010 total population..\n",
    "\n",
    "<!--\n",
    "BEGIN QUESTION\n",
    "name: q2_3\n",
    "-->"
   ]
  },
  {
   "cell_type": "code",
   "execution_count": 52,
   "metadata": {},
   "outputs": [
    {
     "data": {
      "text/html": [
       "<table border=\"1\" class=\"dataframe\">\n",
       "    <thead>\n",
       "        <tr>\n",
       "            <th>geo</th> <th>time</th> <th>population_total</th>\n",
       "        </tr>\n",
       "    </thead>\n",
       "    <tbody>\n",
       "        <tr>\n",
       "            <td>abw </td> <td>1800</td> <td>19286           </td>\n",
       "        </tr>\n",
       "        <tr>\n",
       "            <td>abw </td> <td>1801</td> <td>19286           </td>\n",
       "        </tr>\n",
       "        <tr>\n",
       "            <td>abw </td> <td>1802</td> <td>19286           </td>\n",
       "        </tr>\n",
       "        <tr>\n",
       "            <td>abw </td> <td>1803</td> <td>19286           </td>\n",
       "        </tr>\n",
       "        <tr>\n",
       "            <td>abw </td> <td>1804</td> <td>19286           </td>\n",
       "        </tr>\n",
       "        <tr>\n",
       "            <td>abw </td> <td>1805</td> <td>19286           </td>\n",
       "        </tr>\n",
       "        <tr>\n",
       "            <td>abw </td> <td>1806</td> <td>19286           </td>\n",
       "        </tr>\n",
       "        <tr>\n",
       "            <td>abw </td> <td>1807</td> <td>19286           </td>\n",
       "        </tr>\n",
       "        <tr>\n",
       "            <td>abw </td> <td>1808</td> <td>19286           </td>\n",
       "        </tr>\n",
       "        <tr>\n",
       "            <td>abw </td> <td>1809</td> <td>19286           </td>\n",
       "        </tr>\n",
       "    </tbody>\n",
       "</table>\n",
       "<p>... (87785 rows omitted)</p>"
      ],
      "text/plain": [
       "geo  | time | population_total\n",
       "abw  | 1800 | 19286\n",
       "abw  | 1801 | 19286\n",
       "abw  | 1802 | 19286\n",
       "abw  | 1803 | 19286\n",
       "abw  | 1804 | 19286\n",
       "abw  | 1805 | 19286\n",
       "abw  | 1806 | 19286\n",
       "abw  | 1807 | 19286\n",
       "abw  | 1808 | 19286\n",
       "abw  | 1809 | 19286\n",
       "... (87785 rows omitted)"
      ]
     },
     "execution_count": 52,
     "metadata": {},
     "output_type": "execute_result"
    }
   ],
   "source": [
    "population"
   ]
  },
  {
   "cell_type": "code",
   "execution_count": 53,
   "metadata": {
    "deletable": false
   },
   "outputs": [
    {
     "data": {
      "text/plain": [
       "14.299370218520854"
      ]
     },
     "execution_count": 53,
     "metadata": {},
     "output_type": "execute_result"
    }
   ],
   "source": [
    "pop_2010 = population.where('time', are.equal_to(2010))\n",
    "pop_total = np.sum(pop_2010.column('population_total'))\n",
    "poverty_percent = np.sum(recent_poverty_total.column('poverty_total')) / pop_total *100\n",
    "poverty_percent"
   ]
  },
  {
   "cell_type": "code",
   "execution_count": 54,
   "metadata": {
    "deletable": false,
    "editable": false
   },
   "outputs": [
    {
     "name": "stdout",
     "output_type": "stream",
     "text": [
      "~~~~~~~~~~~~~~~~~~~~~~~~~~~~~~~~~~~~~~~~~~~~~~~~~~~~~~~~~~~~~~~~~~~~~\n",
      "Running tests\n",
      "\n",
      "---------------------------------------------------------------------\n",
      "Test summary\n",
      "    Passed: 1\n",
      "    Failed: 0\n",
      "[ooooooooook] 100.0% passed\n",
      "\n"
     ]
    }
   ],
   "source": [
    "ok.grade(\"q2_3\");"
   ]
  },
  {
   "cell_type": "markdown",
   "metadata": {
    "deletable": false,
    "editable": false
   },
   "source": [
    "The `countries` table includes not only the name and region of countries, but also their positions on the globe."
   ]
  },
  {
   "cell_type": "code",
   "execution_count": 55,
   "metadata": {
    "deletable": false,
    "editable": false
   },
   "outputs": [
    {
     "data": {
      "text/html": [
       "<table border=\"1\" class=\"dataframe\">\n",
       "    <thead>\n",
       "        <tr>\n",
       "            <th>country</th> <th>name</th> <th>world_4region</th> <th>latitude</th> <th>longitude</th>\n",
       "        </tr>\n",
       "    </thead>\n",
       "    <tbody>\n",
       "        <tr>\n",
       "            <td>afg      </td> <td>Afghanistan          </td> <td>asia         </td> <td>33      </td> <td>66       </td>\n",
       "        </tr>\n",
       "        <tr>\n",
       "            <td>akr_a_dhe</td> <td>Akrotiri and Dhekelia</td> <td>europe       </td> <td>nan     </td> <td>nan      </td>\n",
       "        </tr>\n",
       "        <tr>\n",
       "            <td>alb      </td> <td>Albania              </td> <td>europe       </td> <td>41      </td> <td>20       </td>\n",
       "        </tr>\n",
       "        <tr>\n",
       "            <td>dza      </td> <td>Algeria              </td> <td>africa       </td> <td>28      </td> <td>3        </td>\n",
       "        </tr>\n",
       "        <tr>\n",
       "            <td>asm      </td> <td>American Samoa       </td> <td>asia         </td> <td>-11.056 </td> <td>-171.082 </td>\n",
       "        </tr>\n",
       "        <tr>\n",
       "            <td>and      </td> <td>Andorra              </td> <td>europe       </td> <td>42.5078 </td> <td>1.52109  </td>\n",
       "        </tr>\n",
       "        <tr>\n",
       "            <td>ago      </td> <td>Angola               </td> <td>africa       </td> <td>-12.5   </td> <td>18.5     </td>\n",
       "        </tr>\n",
       "        <tr>\n",
       "            <td>aia      </td> <td>Anguilla             </td> <td>americas     </td> <td>18.2167 </td> <td>-63.05   </td>\n",
       "        </tr>\n",
       "        <tr>\n",
       "            <td>atg      </td> <td>Antigua and Barbuda  </td> <td>americas     </td> <td>17.05   </td> <td>-61.8    </td>\n",
       "        </tr>\n",
       "        <tr>\n",
       "            <td>arg      </td> <td>Argentina            </td> <td>americas     </td> <td>-34     </td> <td>-64      </td>\n",
       "        </tr>\n",
       "    </tbody>\n",
       "</table>\n",
       "<p>... (245 rows omitted)</p>"
      ],
      "text/plain": [
       "country   | name                  | world_4region | latitude | longitude\n",
       "afg       | Afghanistan           | asia          | 33       | 66\n",
       "akr_a_dhe | Akrotiri and Dhekelia | europe        | nan      | nan\n",
       "alb       | Albania               | europe        | 41       | 20\n",
       "dza       | Algeria               | africa        | 28       | 3\n",
       "asm       | American Samoa        | asia          | -11.056  | -171.082\n",
       "and       | Andorra               | europe        | 42.5078  | 1.52109\n",
       "ago       | Angola                | africa        | -12.5    | 18.5\n",
       "aia       | Anguilla              | americas      | 18.2167  | -63.05\n",
       "atg       | Antigua and Barbuda   | americas      | 17.05    | -61.8\n",
       "arg       | Argentina             | americas      | -34      | -64\n",
       "... (245 rows omitted)"
      ]
     },
     "execution_count": 55,
     "metadata": {},
     "output_type": "execute_result"
    }
   ],
   "source": [
    "countries.select('country', 'name', 'world_4region', 'latitude', 'longitude')"
   ]
  },
  {
   "cell_type": "code",
   "execution_count": 56,
   "metadata": {},
   "outputs": [
    {
     "data": {
      "text/html": [
       "<table border=\"1\" class=\"dataframe\">\n",
       "    <thead>\n",
       "        <tr>\n",
       "            <th>geo</th> <th>poverty_percent</th> <th>population_total</th> <th>poverty_total</th>\n",
       "        </tr>\n",
       "    </thead>\n",
       "    <tbody>\n",
       "        <tr>\n",
       "            <td>ago </td> <td>43.37          </td> <td>21219954        </td> <td>9.20309e+06  </td>\n",
       "        </tr>\n",
       "        <tr>\n",
       "            <td>alb </td> <td>0.46           </td> <td>2901883         </td> <td>13349        </td>\n",
       "        </tr>\n",
       "        <tr>\n",
       "            <td>arg </td> <td>1.41           </td> <td>41222875        </td> <td>581243       </td>\n",
       "        </tr>\n",
       "        <tr>\n",
       "            <td>arm </td> <td>1.75           </td> <td>2963496         </td> <td>51861        </td>\n",
       "        </tr>\n",
       "        <tr>\n",
       "            <td>aus </td> <td>1.36           </td> <td>22162863        </td> <td>301415       </td>\n",
       "        </tr>\n",
       "        <tr>\n",
       "            <td>aut </td> <td>0.34           </td> <td>8391986         </td> <td>28533        </td>\n",
       "        </tr>\n",
       "        <tr>\n",
       "            <td>aze </td> <td>0.31           </td> <td>9099893         </td> <td>28210        </td>\n",
       "        </tr>\n",
       "        <tr>\n",
       "            <td>bdi </td> <td>81.32          </td> <td>9461117         </td> <td>7.69378e+06  </td>\n",
       "        </tr>\n",
       "        <tr>\n",
       "            <td>bel </td> <td>0.5            </td> <td>10929978        </td> <td>54650        </td>\n",
       "        </tr>\n",
       "        <tr>\n",
       "            <td>ben </td> <td>51.61          </td> <td>9509798         </td> <td>4.90801e+06  </td>\n",
       "        </tr>\n",
       "    </tbody>\n",
       "</table>\n",
       "<p>... (135 rows omitted)</p>"
      ],
      "text/plain": [
       "geo  | poverty_percent | population_total | poverty_total\n",
       "ago  | 43.37           | 21219954         | 9.20309e+06\n",
       "alb  | 0.46            | 2901883          | 13349\n",
       "arg  | 1.41            | 41222875         | 581243\n",
       "arm  | 1.75            | 2963496          | 51861\n",
       "aus  | 1.36            | 22162863         | 301415\n",
       "aut  | 0.34            | 8391986          | 28533\n",
       "aze  | 0.31            | 9099893          | 28210\n",
       "bdi  | 81.32           | 9461117          | 7.69378e+06\n",
       "bel  | 0.5             | 10929978         | 54650\n",
       "ben  | 51.61           | 9509798          | 4.90801e+06\n",
       "... (135 rows omitted)"
      ]
     },
     "execution_count": 56,
     "metadata": {},
     "output_type": "execute_result"
    }
   ],
   "source": [
    "recent_poverty_total"
   ]
  },
  {
   "cell_type": "markdown",
   "metadata": {
    "deletable": false,
    "editable": false
   },
   "source": [
    "**Question 4.** Using both `countries` and `recent_poverty_total`, create a five-column table called `poverty_map` with one row for every country in `recent_poverty_total`.  The five columns should have the following labels and contents:\n",
    "1. `latitude` contains the country's latitude,\n",
    "1. `longitude` contains the country's longitude,\n",
    "1. `name` contains the country's name,\n",
    "1. `region` contains the country's region from the `world_4region` column of `countries`,\n",
    "1. `poverty_total` contains the country's poverty total.\n",
    "\n",
    "<!--\n",
    "BEGIN QUESTION\n",
    "name: q2_4\n",
    "-->"
   ]
  },
  {
   "cell_type": "code",
   "execution_count": 57,
   "metadata": {
    "deletable": false
   },
   "outputs": [
    {
     "data": {
      "text/html": [
       "<table border=\"1\" class=\"dataframe\">\n",
       "    <thead>\n",
       "        <tr>\n",
       "            <th>latitude</th> <th>longitude</th> <th>name</th> <th>region</th> <th>poverty_total</th>\n",
       "        </tr>\n",
       "    </thead>\n",
       "    <tbody>\n",
       "        <tr>\n",
       "            <td>-12.5   </td> <td>18.5     </td> <td>Angola    </td> <td>africa  </td> <td>9.20309e+06  </td>\n",
       "        </tr>\n",
       "        <tr>\n",
       "            <td>41      </td> <td>20       </td> <td>Albania   </td> <td>europe  </td> <td>13349        </td>\n",
       "        </tr>\n",
       "        <tr>\n",
       "            <td>-34     </td> <td>-64      </td> <td>Argentina </td> <td>americas</td> <td>581243       </td>\n",
       "        </tr>\n",
       "        <tr>\n",
       "            <td>40.25   </td> <td>45       </td> <td>Armenia   </td> <td>europe  </td> <td>51861        </td>\n",
       "        </tr>\n",
       "        <tr>\n",
       "            <td>-25     </td> <td>135      </td> <td>Australia </td> <td>asia    </td> <td>301415       </td>\n",
       "        </tr>\n",
       "        <tr>\n",
       "            <td>47.3333 </td> <td>13.3333  </td> <td>Austria   </td> <td>europe  </td> <td>28533        </td>\n",
       "        </tr>\n",
       "        <tr>\n",
       "            <td>40.5    </td> <td>47.5     </td> <td>Azerbaijan</td> <td>europe  </td> <td>28210        </td>\n",
       "        </tr>\n",
       "        <tr>\n",
       "            <td>-3.5    </td> <td>30       </td> <td>Burundi   </td> <td>africa  </td> <td>7.69378e+06  </td>\n",
       "        </tr>\n",
       "        <tr>\n",
       "            <td>50.75   </td> <td>4.5      </td> <td>Belgium   </td> <td>europe  </td> <td>54650        </td>\n",
       "        </tr>\n",
       "        <tr>\n",
       "            <td>9.5     </td> <td>2.25     </td> <td>Benin     </td> <td>africa  </td> <td>4.90801e+06  </td>\n",
       "        </tr>\n",
       "    </tbody>\n",
       "</table>\n",
       "<p>... (135 rows omitted)</p>"
      ],
      "text/plain": [
       "latitude | longitude | name       | region   | poverty_total\n",
       "-12.5    | 18.5      | Angola     | africa   | 9.20309e+06\n",
       "41       | 20        | Albania    | europe   | 13349\n",
       "-34      | -64       | Argentina  | americas | 581243\n",
       "40.25    | 45        | Armenia    | europe   | 51861\n",
       "-25      | 135       | Australia  | asia     | 301415\n",
       "47.3333  | 13.3333   | Austria    | europe   | 28533\n",
       "40.5     | 47.5      | Azerbaijan | europe   | 28210\n",
       "-3.5     | 30        | Burundi    | africa   | 7.69378e+06\n",
       "50.75    | 4.5       | Belgium    | europe   | 54650\n",
       "9.5      | 2.25      | Benin      | africa   | 4.90801e+06\n",
       "... (135 rows omitted)"
      ]
     },
     "execution_count": 57,
     "metadata": {},
     "output_type": "execute_result"
    }
   ],
   "source": [
    "poverty_map = countries.select('country', 'name', 'world_4region', 'latitude', 'longitude').join('country',recent_poverty_total,'geo' ).drop('country').drop('poverty_percent').drop('population_total').select('latitude','longitude','name','world_4region','poverty_total').relabel('world_4region','region')\n",
    "poverty_map"
   ]
  },
  {
   "cell_type": "code",
   "execution_count": 58,
   "metadata": {
    "deletable": false,
    "editable": false
   },
   "outputs": [
    {
     "name": "stdout",
     "output_type": "stream",
     "text": [
      "~~~~~~~~~~~~~~~~~~~~~~~~~~~~~~~~~~~~~~~~~~~~~~~~~~~~~~~~~~~~~~~~~~~~~\n",
      "Running tests\n",
      "\n",
      "---------------------------------------------------------------------\n",
      "Test summary\n",
      "    Passed: 2\n",
      "    Failed: 0\n",
      "[ooooooooook] 100.0% passed\n",
      "\n"
     ]
    }
   ],
   "source": [
    "ok.grade(\"q2_4\");"
   ]
  },
  {
   "cell_type": "markdown",
   "metadata": {
    "deletable": false,
    "editable": false
   },
   "source": [
    "Run the cell below to draw a map of the world in which the areas of circles represent the number of people living in extreme poverty. Double-click on the map to zoom in."
   ]
  },
  {
   "cell_type": "code",
   "execution_count": 59,
   "metadata": {
    "deletable": false,
    "editable": false
   },
   "outputs": [
    {
     "data": {
      "text/html": [
       "<div style=\"width:100%;\"><div style=\"position:relative;width:100%;height:0;padding-bottom:60%;\"><iframe src=\"data:text/html;charset=utf-8;base64,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\" style=\"position:absolute;width:100%;height:100%;left:0;top:0;border:none !important;\" allowfullscreen webkitallowfullscreen mozallowfullscreen></iframe></div></div>"
      ],
      "text/plain": [
       "<datascience.maps.Map at 0x7f59602e2470>"
      ]
     },
     "execution_count": 59,
     "metadata": {},
     "output_type": "execute_result"
    }
   ],
   "source": [
    "# It may take a few seconds to generate this map.\n",
    "colors = {'africa': 'blue', 'europe': 'black', 'asia': 'red', 'americas': 'green'}\n",
    "scaled = poverty_map.with_columns(\n",
    "    'poverty_total', 1e-4 * poverty_map.column('poverty_total'),\n",
    "    'region', poverty_map.apply(colors.get, 'region')\n",
    ")\n",
    "Circle.map_table(scaled)"
   ]
  },
  {
   "cell_type": "markdown",
   "metadata": {
    "deletable": false,
    "editable": false
   },
   "source": [
    "Although people live in extreme poverty throughout the world (with more than 5 million in the United States), the largest numbers are in Asia and Africa."
   ]
  },
  {
   "cell_type": "markdown",
   "metadata": {
    "deletable": false,
    "editable": false
   },
   "source": [
    "**Question 5.** Assign `largest` to a two-column table with the `name` (not the 3-letter code) and `poverty_total` of the 10 countries with the largest number of people living in extreme poverty.\n",
    "\n",
    "<!--\n",
    "BEGIN QUESTION\n",
    "name: q2_5\n",
    "-->"
   ]
  },
  {
   "cell_type": "code",
   "execution_count": 60,
   "metadata": {
    "deletable": false
   },
   "outputs": [
    {
     "data": {
      "text/html": [
       "<table border=\"1\" class=\"dataframe\">\n",
       "    <thead>\n",
       "        <tr>\n",
       "            <th>name</th> <th>poverty_total</th>\n",
       "        </tr>\n",
       "    </thead>\n",
       "    <tbody>\n",
       "        <tr>\n",
       "            <td>India           </td> <td>290,881,638.00</td>\n",
       "        </tr>\n",
       "        <tr>\n",
       "            <td>Nigeria         </td> <td>98,891,167.00 </td>\n",
       "        </tr>\n",
       "        <tr>\n",
       "            <td>China           </td> <td>83,944,643.00 </td>\n",
       "        </tr>\n",
       "        <tr>\n",
       "            <td>Bangladesh      </td> <td>65,574,256.00 </td>\n",
       "        </tr>\n",
       "        <tr>\n",
       "            <td>Congo, Dem. Rep.</td> <td>57,841,438.00 </td>\n",
       "        </tr>\n",
       "        <tr>\n",
       "            <td>Indonesia       </td> <td>39,141,326.00 </td>\n",
       "        </tr>\n",
       "        <tr>\n",
       "            <td>Ethiopia        </td> <td>32,213,991.00 </td>\n",
       "        </tr>\n",
       "        <tr>\n",
       "            <td>Pakistan        </td> <td>21,663,595.00 </td>\n",
       "        </tr>\n",
       "        <tr>\n",
       "            <td>Tanzania        </td> <td>19,847,979.00 </td>\n",
       "        </tr>\n",
       "        <tr>\n",
       "            <td>Madagascar      </td> <td>18,480,426.00 </td>\n",
       "        </tr>\n",
       "    </tbody>\n",
       "</table>"
      ],
      "text/plain": [
       "name             | poverty_total\n",
       "India            | 290,881,638.00\n",
       "Nigeria          | 98,891,167.00\n",
       "China            | 83,944,643.00\n",
       "Bangladesh       | 65,574,256.00\n",
       "Congo, Dem. Rep. | 57,841,438.00\n",
       "Indonesia        | 39,141,326.00\n",
       "Ethiopia         | 32,213,991.00\n",
       "Pakistan         | 21,663,595.00\n",
       "Tanzania         | 19,847,979.00\n",
       "Madagascar       | 18,480,426.00"
      ]
     },
     "execution_count": 60,
     "metadata": {},
     "output_type": "execute_result"
    }
   ],
   "source": [
    "largest = poverty_map.select('name','poverty_total').sort('poverty_total',descending=True).take(np.arange(0,10,1))\n",
    "largest.set_format('poverty_total', NumberFormatter)"
   ]
  },
  {
   "cell_type": "code",
   "execution_count": 61,
   "metadata": {
    "deletable": false,
    "editable": false
   },
   "outputs": [
    {
     "name": "stdout",
     "output_type": "stream",
     "text": [
      "~~~~~~~~~~~~~~~~~~~~~~~~~~~~~~~~~~~~~~~~~~~~~~~~~~~~~~~~~~~~~~~~~~~~~\n",
      "Running tests\n",
      "\n",
      "---------------------------------------------------------------------\n",
      "Test summary\n",
      "    Passed: 3\n",
      "    Failed: 0\n",
      "[ooooooooook] 100.0% passed\n",
      "\n"
     ]
    }
   ],
   "source": [
    "ok.grade(\"q2_5\");"
   ]
  },
  {
   "cell_type": "markdown",
   "metadata": {
    "deletable": false
   },
   "source": [
    "**Question 6.** Write a function called `poverty_timeline` that takes **the name of a country** as its argument. It should draw a line plot of the number of people living in poverty in that country with time on the horizontal axis. The line plot should have a point for each row in the `poverty` table for that country. To compute the population living in poverty from a poverty percentage, multiply by the population of the country **in that year**.\n",
    "\n",
    "*Hint:* This question is long. Feel free to create cells and experiment. "
   ]
  },
  {
   "cell_type": "code",
   "execution_count": 62,
   "metadata": {},
   "outputs": [],
   "source": [
    "def poverty_timeline(country):\n",
    "    '''Draw a timeline of people living in extreme poverty in a country.'''\n",
    "    geo = countries.where('name', country).column(0).item(0)\n",
    "    poverty_geo = poverty.where('geo', geo).join(['geo','time'], population, ['geo', 'time'])\n",
    "    cleaned_poverty = poverty_geo.with_column('population in poverty', np.round(poverty_geo.column(2)/100*poverty_geo.column('population_total'))).drop([0,2,3])\n",
    "    # This solution will take multiple lines of code. Use as many as you need\n",
    "    return cleaned_poverty.plot('time')"
   ]
  },
  {
   "cell_type": "markdown",
   "metadata": {
    "deletable": false,
    "editable": false
   },
   "source": [
    "Finally, draw the timelines below to see how the world is changing. You can check your work by comparing your graphs to the ones on [gapminder.org](https://www.gapminder.org/tools/#$state$entities$show$country$/$in@=ind;;;;&marker$axis_y$which=number_of_people_in_poverty&scaleType=linear&spaceRef:null;;;&chart-type=linechart).\n",
    "\n",
    "<!--\n",
    "BEGIN QUESTION\n",
    "name: q2_6\n",
    "manual: true\n",
    "-->\n",
    "<!-- EXPORT TO PDF -->"
   ]
  },
  {
   "cell_type": "code",
   "execution_count": 63,
   "metadata": {
    "export_pdf": true
   },
   "outputs": [
    {
     "data": {
      "image/png": "[encoded data removed]",
      "text/plain": [
       "<Figure size 432x288 with 1 Axes>"
      ]
     },
     "metadata": {},
     "output_type": "display_data"
    },
    {
     "data": {
      "image/png": "[encoded data removed]",
      "text/plain": [
       "<Figure size 432x288 with 1 Axes>"
      ]
     },
     "metadata": {},
     "output_type": "display_data"
    },
    {
     "data": {
      "image/png": "[encoded data removed]",
      "text/plain": [
       "<Figure size 432x288 with 1 Axes>"
      ]
     },
     "metadata": {},
     "output_type": "display_data"
    },
    {
     "data": {
      "image/png": "[encoded data removed]",
      "text/plain": [
       "<Figure size 432x288 with 1 Axes>"
      ]
     },
     "metadata": {},
     "output_type": "display_data"
    }
   ],
   "source": [
    "poverty_timeline('India')\n",
    "poverty_timeline('Nigeria')\n",
    "poverty_timeline('China')\n",
    "poverty_timeline('United States')"
   ]
  },
  {
   "cell_type": "markdown",
   "metadata": {
    "deletable": false,
    "editable": false
   },
   "source": [
    "Although the number of people living in extreme poverty has been increasing in Nigeria and the United States, the massive decreases in China and India have shaped the overall trend that extreme poverty is decreasing worldwide, both in percentage and in absolute number. \n",
    "\n",
    "To learn more, watch [Hans Rosling in a 2015 film](https://www.gapminder.org/videos/dont-panic-end-poverty/) about the UN goal of eradicating extreme poverty from the world. \n",
    "\n",
    "Below, we've also added an interactive dropdown menu for you to visualize `poverty_timeline` graphs for other countries. Note that each dropdown menu selection may take a few seconds to run."
   ]
  },
  {
   "cell_type": "code",
   "execution_count": 64,
   "metadata": {
    "deletable": false,
    "editable": false
   },
   "outputs": [
    {
     "data": {
      "application/vnd.jupyter.widget-view+json": {
       "model_id": "474c3afd9a0a4a40a7194f1680506894",
       "version_major": 2,
       "version_minor": 0
      },
      "text/plain": [
       "interactive(children=(Dropdown(description='country', options=('Angola', 'Albania', 'Argentina', 'Armenia', 'A…"
      ]
     },
     "metadata": {},
     "output_type": "display_data"
    }
   ],
   "source": [
    "# Just run this cell\n",
    "\n",
    "all_countries = poverty_map.column('name')\n",
    "_ = widgets.interact(poverty_timeline, country=list(all_countries))"
   ]
  },
  {
   "cell_type": "markdown",
   "metadata": {
    "deletable": false,
    "editable": false
   },
   "source": [
    "**You're finished!** Congratulations on mastering data visualization and table manipulation. Time to submit."
   ]
  },
  {
   "cell_type": "markdown",
   "metadata": {},
   "source": [
    "## 3. Submission\n"
   ]
  },
  {
   "cell_type": "markdown",
   "metadata": {
    "collapsed": true
   },
   "source": [
    "Once you're finished, select \"Save and Checkpoint\" in the File menu and then execute the `submit` cell below. The result will contain a link that you can use to check that your assignment has been submitted successfully. If you submit more than once before the deadline, we will only grade your final submission. If you mistakenly submit the wrong one, you can head to [okpy.org](https://okpy.org/) and flag the correct version. To do so, go to the website, click on this assignment, and find the version you would like to have graded. There should be an option to flag that submission for grading!"
   ]
  },
  {
   "cell_type": "code",
   "execution_count": 65,
   "metadata": {},
   "outputs": [
    {
     "data": {
      "application/javascript": [
       "IPython.notebook.save_checkpoint();"
      ],
      "text/plain": [
       "<IPython.core.display.Javascript object>"
      ]
     },
     "metadata": {},
     "output_type": "display_data"
    },
    {
     "data": {
      "application/javascript": [
       "IPython.notebook.save_notebook();"
      ],
      "text/plain": [
       "<IPython.core.display.Javascript object>"
      ]
     },
     "metadata": {},
     "output_type": "display_data"
    },
    {
     "name": "stdout",
     "output_type": "stream",
     "text": [
      "Saving notebook... Saved 'project1.ipynb'.\n",
      "Submit... 100% complete\n",
      "Submission successful for user: rebeccawzy@berkeley.edu\n",
      "URL: https://okpy.org/cal/data8/fa19/project1/submissions/nRZjZP\n",
      "\n"
     ]
    }
   ],
   "source": [
    "_ = ok.submit()"
   ]
  },
  {
   "cell_type": "code",
   "execution_count": 66,
   "metadata": {},
   "outputs": [
    {
     "name": "stdout",
     "output_type": "stream",
     "text": [
      "Running all tests...\n",
      "~~~~~~~~~~~~~~~~~~~~~~~~~~~~~~~~~~~~~~~~~~~~~~~~~~~~~~~~~~~~~~~~~~~~~\n",
      "Running tests\n",
      "\n",
      "---------------------------------------------------------------------\n",
      "Test summary\n",
      "    Passed: 2\n",
      "    Failed: 0\n",
      "[ooooooooook] 100.0% passed\n",
      "\n",
      "~~~~~~~~~~~~~~~~~~~~~~~~~~~~~~~~~~~~~~~~~~~~~~~~~~~~~~~~~~~~~~~~~~~~~\n",
      "Running tests\n",
      "\n",
      "---------------------------------------------------------------------\n",
      "Test summary\n",
      "    Passed: 3\n",
      "    Failed: 0\n",
      "[ooooooooook] 100.0% passed\n",
      "\n",
      "~~~~~~~~~~~~~~~~~~~~~~~~~~~~~~~~~~~~~~~~~~~~~~~~~~~~~~~~~~~~~~~~~~~~~\n",
      "Running tests\n",
      "\n",
      "---------------------------------------------------------------------\n",
      "Test summary\n",
      "    Passed: 2\n",
      "    Failed: 0\n",
      "[ooooooooook] 100.0% passed\n",
      "\n",
      "~~~~~~~~~~~~~~~~~~~~~~~~~~~~~~~~~~~~~~~~~~~~~~~~~~~~~~~~~~~~~~~~~~~~~\n",
      "Running tests\n",
      "\n",
      "---------------------------------------------------------------------\n",
      "Test summary\n",
      "    Passed: 4\n",
      "    Failed: 0\n",
      "[ooooooooook] 100.0% passed\n",
      "\n",
      "~~~~~~~~~~~~~~~~~~~~~~~~~~~~~~~~~~~~~~~~~~~~~~~~~~~~~~~~~~~~~~~~~~~~~\n",
      "Running tests\n",
      "\n",
      "---------------------------------------------------------------------\n",
      "Test summary\n",
      "    Passed: 2\n",
      "    Failed: 0\n",
      "[ooooooooook] 100.0% passed\n",
      "\n",
      "~~~~~~~~~~~~~~~~~~~~~~~~~~~~~~~~~~~~~~~~~~~~~~~~~~~~~~~~~~~~~~~~~~~~~\n",
      "Running tests\n",
      "\n",
      "---------------------------------------------------------------------\n",
      "Test summary\n",
      "    Passed: 1\n",
      "    Failed: 0\n",
      "[ooooooooook] 100.0% passed\n",
      "\n",
      "~~~~~~~~~~~~~~~~~~~~~~~~~~~~~~~~~~~~~~~~~~~~~~~~~~~~~~~~~~~~~~~~~~~~~\n",
      "Running tests\n",
      "\n",
      "---------------------------------------------------------------------\n",
      "Test summary\n",
      "    Passed: 2\n",
      "    Failed: 0\n",
      "[ooooooooook] 100.0% passed\n",
      "\n",
      "~~~~~~~~~~~~~~~~~~~~~~~~~~~~~~~~~~~~~~~~~~~~~~~~~~~~~~~~~~~~~~~~~~~~~\n",
      "Running tests\n",
      "\n",
      "---------------------------------------------------------------------\n",
      "Test summary\n",
      "    Passed: 2\n",
      "    Failed: 0\n",
      "[ooooooooook] 100.0% passed\n",
      "\n",
      "~~~~~~~~~~~~~~~~~~~~~~~~~~~~~~~~~~~~~~~~~~~~~~~~~~~~~~~~~~~~~~~~~~~~~\n",
      "Running tests\n",
      "\n",
      "---------------------------------------------------------------------\n",
      "Test summary\n",
      "    Passed: 1\n",
      "    Failed: 0\n",
      "[ooooooooook] 100.0% passed\n",
      "\n",
      "~~~~~~~~~~~~~~~~~~~~~~~~~~~~~~~~~~~~~~~~~~~~~~~~~~~~~~~~~~~~~~~~~~~~~\n",
      "Running tests\n",
      "\n",
      "---------------------------------------------------------------------\n",
      "Test summary\n",
      "    Passed: 3\n",
      "    Failed: 0\n",
      "[ooooooooook] 100.0% passed\n",
      "\n",
      "~~~~~~~~~~~~~~~~~~~~~~~~~~~~~~~~~~~~~~~~~~~~~~~~~~~~~~~~~~~~~~~~~~~~~\n",
      "Running tests\n",
      "\n",
      "---------------------------------------------------------------------\n",
      "Test summary\n",
      "    Passed: 3\n",
      "    Failed: 0\n",
      "[ooooooooook] 100.0% passed\n",
      "\n",
      "~~~~~~~~~~~~~~~~~~~~~~~~~~~~~~~~~~~~~~~~~~~~~~~~~~~~~~~~~~~~~~~~~~~~~\n",
      "Running tests\n",
      "\n",
      "---------------------------------------------------------------------\n",
      "Test summary\n",
      "    Passed: 2\n",
      "    Failed: 0\n",
      "[ooooooooook] 100.0% passed\n",
      "\n",
      "~~~~~~~~~~~~~~~~~~~~~~~~~~~~~~~~~~~~~~~~~~~~~~~~~~~~~~~~~~~~~~~~~~~~~\n",
      "Running tests\n",
      "\n",
      "---------------------------------------------------------------------\n",
      "Test summary\n",
      "    Passed: 2\n",
      "    Failed: 0\n",
      "[ooooooooook] 100.0% passed\n",
      "\n",
      "~~~~~~~~~~~~~~~~~~~~~~~~~~~~~~~~~~~~~~~~~~~~~~~~~~~~~~~~~~~~~~~~~~~~~\n",
      "Running tests\n",
      "\n",
      "---------------------------------------------------------------------\n",
      "Test summary\n",
      "    Passed: 1\n",
      "    Failed: 0\n",
      "[ooooooooook] 100.0% passed\n",
      "\n",
      "~~~~~~~~~~~~~~~~~~~~~~~~~~~~~~~~~~~~~~~~~~~~~~~~~~~~~~~~~~~~~~~~~~~~~\n",
      "Running tests\n",
      "\n",
      "---------------------------------------------------------------------\n",
      "Test summary\n",
      "    Passed: 3\n",
      "    Failed: 0\n",
      "[ooooooooook] 100.0% passed\n",
      "\n",
      "Finished running all tests.\n"
     ]
    }
   ],
   "source": [
    "# For your convenience, you can run this cell to run all the tests at once!\n",
    "import os\n",
    "print(\"Running all tests...\")\n",
    "_ = [ok.grade(q[:-3]) for q in os.listdir(\"tests\") if q.startswith('q') and len(q) <= 10]\n",
    "print(\"Finished running all tests.\")"
   ]
  },
  {
   "cell_type": "code",
   "execution_count": null,
   "metadata": {},
   "outputs": [],
   "source": []
  }
 ],
 "metadata": {
  "kernelspec": {
   "display_name": "Python 3",
   "language": "python",
   "name": "python3"
  },
  "language_info": {
   "codemirror_mode": {
    "name": "ipython",
    "version": 3
   },
   "file_extension": ".py",
   "mimetype": "text/x-python",
   "name": "python",
   "nbconvert_exporter": "python",
   "pygments_lexer": "ipython3",
   "version": "3.8.6"
  }
 },
 "nbformat": 4,
 "nbformat_minor": 1
}
